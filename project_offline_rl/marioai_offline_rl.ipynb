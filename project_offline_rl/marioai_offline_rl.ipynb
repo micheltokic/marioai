{
 "cells": [
  {
   "cell_type": "markdown",
   "metadata": {},
   "source": [
    "# Training an Agent to play Super Mario with Offline Learning\n",
    "---\n",
    "\n",
    "In this exercise you will learn how to use offline learning to train a neural network to play Super Mario.\n",
    "Its performance will then be compared with the results from the Q-Learning exercise. "
   ]
  },
  {
   "cell_type": "markdown",
   "metadata": {
    "pycharm": {
     "name": "#%% md\n"
    }
   },
   "source": [
    "## 0. Setup\n",
    "\n",
    "### Requirements\n",
    " - Java 8 (or later) runtime environment\n",
    " - Python 3.6 (or later)\n",
    " - Microsoft Visual C++ 14.0 (or later)\n",
    "\n",
    "You will be provided with both the .jar and the gym-marioai python package."
   ]
  },
  {
   "cell_type": "markdown",
   "metadata": {},
   "source": [
    "### Installation\n",
    "To setup this exercise we will use Pipenv.\n",
    "If you do not have pipenv installed please do so by running:\n",
    "\n",
    "``pip install --user pipenv``\n",
    "\n",
    "After that please run (if not already done)\n",
    "\n",
    "``pipenv install`` and\n",
    "``pipenv run start``.\n",
    "\n",
    "\n",
    "in the root directory to start the Jupyter notebook containing the exercise.\n",
    "\n",
    "(pipfile set to python version 3.6 by default, can be edited if needed)"
   ]
  },
  {
   "cell_type": "code",
   "execution_count": 5,
   "metadata": {},
   "outputs": [
    {
     "name": "stdout",
     "output_type": "stream",
     "text": [
      "The tensorboard extension is already loaded. To reload it, use:\n",
      "  %reload_ext tensorboard\n",
      "env: PROTOCOL_BUFFERS_PYTHON_IMPLEMENTATION=python\n"
     ]
    }
   ],
   "source": [
    "# Setup the imports. Run this cell again if you encounter any import errors.\n",
    "import copy\n",
    "import numpy as np\n",
    "import pathlib\n",
    "\n",
    "import d3rlpy.dataset\n",
    "from d3rlpy.dataset import MDPDataset, ReplayBuffer\n",
    "from d3rlpy.dataset.buffers import InfiniteBuffer\n",
    "from d3rlpy.metrics import EnvironmentEvaluator\n",
    "from sklearn.model_selection import train_test_split\n",
    "\n",
    "from gym_setup import Env\n",
    "from controller import GamepadController, KeyboardController\n",
    "from data.datasets.getDatasets import getDataset, getSpecificDataset\n",
    "import matplotlib.pyplot as plt\n",
    "import pathlib\n",
    "from get_paths import LevelPaths\n",
    "from training_params import *\n",
    "\n",
    "\n",
    "%load_ext tensorboard\n",
    "%set_env PROTOCOL_BUFFERS_PYTHON_IMPLEMENTATION=python"
   ]
  },
  {
   "cell_type": "markdown",
   "metadata": {},
   "source": [
    "## 1. Generating data\n",
    "First, you will have to generate some data for the neural network to train with.\n",
    "\n",
    "### Level\n",
    "The level we will be using for this exercise will be a very easy one to minimize the training time.\n",
    "\n",
    "However, if you would like to try different levels, we encourage you to do so by changing the ``level`` variable below to a different one from the ``levels`` folder."
   ]
  },
  {
   "cell_type": "code",
   "execution_count": 2,
   "metadata": {},
   "outputs": [
    {
     "name": "stdout",
     "output_type": "stream",
     "text": [
      "level location=levels\\RoughTerrainLevel.lvl\n",
      "RoughTerrainLevel\n"
     ]
    }
   ],
   "source": [
    "# Setup global variables\n",
    "init_dir = pathlib.Path(\"\")\n",
    "# level_str = \"CliffsAndEnemiesLevel.lvl\"\n",
    "level_str = \"RoughTerrainLevel.lvl\"\n",
    "level_paths: LevelPaths = LevelPaths(init_dir, level_str)\n",
    "print(f\"level location={level_paths.level}\")\n",
    "print(level_paths.level_name)"
   ]
  },
  {
   "cell_type": "markdown",
   "metadata": {},
   "source": [
    "### 1.1 Player generated data.\n",
    "\n",
    "![Mario](https://media1.giphy.com/media/aX0RqLt2ARSW4/giphy.gif?cid=ecf05e47fnkts3fqh25tj9v8noh9vnccwo4x0ey4zpdxc7ft&rid=giphy.gif&ct=g)\n",
    "\n",
    "\n",
    "To achieve the best possible results, the training algorithm needs the best possible data. In this case that means player generated data.\n",
    "\n",
    "\n",
    "You will have the most fun playing with a USB-Controller but if you have none, you can set the following variable to ``False`` to use the keyboard:"
   ]
  },
  {
   "cell_type": "code",
   "execution_count": 3,
   "metadata": {},
   "outputs": [],
   "source": [
    "# Don't forget to run me\n",
    "USE_GAMEPAD = False"
   ]
  },
  {
   "cell_type": "markdown",
   "metadata": {},
   "source": [
    "### Controls\n",
    "|            \t| Keyboard    \t| Xbox       \t| Playstation \t|\n",
    "|------------\t|-------------\t|------------\t|-------------\t|\n",
    "| Jump       \t| S           \t| A          \t| X           \t|\n",
    "| Sprint     \t| A           \t| B          \t| O           \t|\n",
    "| Move Right \t| Arrow Right \t| Dpad Right \t| Dpad Right  \t|\n",
    "| Move Left  \t| Arrow Left  \t| Dpad Left  \t| Dpad Left   \t|\n",
    "| Duck       \t| Arrow Down  \t| Dpad Down  \t| Dpad Down   \t|"
   ]
  },
  {
   "cell_type": "markdown",
   "metadata": {},
   "source": [
    "To start the game run the next cell. If you think you have enough data just close the game window and move on to the next cell.\n",
    "\n",
    "Note: We have pregenerated some training data for your convenience which will be used in addition to your data to train the model.\n",
    "If you want to train with your own data only, go ahead and delete the data from ``exercise_offline_rl\\data\\datasets``."
   ]
  },
  {
   "cell_type": "code",
   "execution_count": 14,
   "metadata": {},
   "outputs": [
    {
     "name": "stdout",
     "output_type": "stream",
     "text": [
      "number of episodes: 4\n",
      "Running on port 8080\n"
     ]
    },
    {
     "name": "stderr",
     "output_type": "stream",
     "text": [
      "d:\\marioai\\marioenv\\lib\\site-packages\\gym\\utils\\passive_env_checker.py:233: DeprecationWarning: `np.bool8` is a deprecated alias for `np.bool_`.  (Deprecated NumPy 1.24)\n",
      "  if not isinstance(terminated, (bool, np.bool8)):\n"
     ]
    },
    {
     "name": "stdout",
     "output_type": "stream",
     "text": [
      "number of episodes: 5\n",
      "number of episodes: 6\n",
      "Done\n"
     ]
    }
   ],
   "source": [
    "if level_paths.dataset_path.exists():\n",
    "    with level_paths.dataset_path.open(\"rb\") as dataset_file:\n",
    "        dataset: ReplayBuffer = ReplayBuffer.load(dataset_file, d3rlpy.dataset.InfiniteBuffer())\n",
    "        print(f\"number of episodes: {dataset.size()}\")\n",
    "# Let's play!\n",
    "# Let's play!\n",
    "try:\n",
    "    env_play = Env(visible=True, level=str(level_paths.level.resolve()), port=8080).env\n",
    "\n",
    "    if USE_GAMEPAD:\n",
    "        controller = GamepadController(env_play)\n",
    "    else:\n",
    "        controller = KeyboardController(env_play)\n",
    "    while True:\n",
    "        observation, _ = env_play.reset()\n",
    "\n",
    "        done = False\n",
    "        action = controller.read()\n",
    "\n",
    "        observations = [observation]\n",
    "\n",
    "        actions = [action]\n",
    "        # No reward at first time step, because no action was taken yet\n",
    "        rewards = [0]\n",
    "        terminals = [done]\n",
    "\n",
    "        while not done:\n",
    "            observation, reward, done, truncated, info = env_play.step(action)\n",
    "\n",
    "            action = controller.read()\n",
    "\n",
    "            observations.append(observation)\n",
    "            actions.append(action)\n",
    "            rewards.append(reward)\n",
    "            terminals.append(done)\n",
    "\n",
    "        dataset = None\n",
    "        if level_paths.dataset_path.exists():\n",
    "            # NOTE: is this the correct type of buffer?\n",
    "            # see https://d3rlpy.readthedocs.io/en/latest/references/dataset.html\n",
    "            with level_paths.dataset_path.open(\"rb\") as dataset_file:\n",
    "                dataset: ReplayBuffer = ReplayBuffer.load(dataset_file, d3rlpy.dataset.InfiniteBuffer())\n",
    "                dataset.append_episode(\n",
    "                    d3rlpy.dataset.components.Episode(np.asarray(observations), np.asarray(actions)[:, np.newaxis],\n",
    "                                                      np.asarray(rewards)[:, np.newaxis], done))\n",
    "                print(f\"number of episodes: {dataset.size()}\")\n",
    "        else:\n",
    "            dataset = MDPDataset(np.asarray(observations), np.asarray(actions)[:, np.newaxis],\n",
    "                                 np.asarray(rewards)[:, np.newaxis], np.asarray(terminals))\n",
    "        with open(level_paths.dataset_path, \"w+b\") as f:\n",
    "            dataset.dump(f)\n",
    "\n",
    "except ConnectionResetError:\n",
    "    print(\"Done\")"
   ]
  },
  {
   "cell_type": "markdown",
   "metadata": {},
   "source": [
    "### 1.2 Randomly generated data (optional)\n",
    "To complement the player generated data, it is possible to also generate some random data for the algorithm to train with."
   ]
  },
  {
   "cell_type": "code",
   "execution_count": 15,
   "metadata": {},
   "outputs": [
    {
     "name": "stdout",
     "output_type": "stream",
     "text": [
      "Running on port 8080\n",
      "episode=9 \n",
      "Done!\n"
     ]
    }
   ],
   "source": [
    "\n",
    "# Generate random data\n",
    "EPISODES = 10  # <--- increase if you want more random data. More data might slow down the training process.\n",
    "\n",
    "env_rand = Env(visible=False, level=str(level_paths.level), port=8080).env\n",
    "\n",
    "for episode in range(EPISODES):\n",
    "    print(f\"{episode=} \\r\", end=\"\")\n",
    "    observation, _ = env_rand.reset()\n",
    "    done = False\n",
    "    action = env_rand.action_space.sample()\n",
    "\n",
    "    observations = [observation]\n",
    "    actions = [action]\n",
    "    # No reward at first time step, because no action was taken yet\n",
    "    rewards = [0]\n",
    "    terminals = [done]\n",
    "\n",
    "    while not done:\n",
    "        observation, reward, done, truncated, info = env_rand.step(action)\n",
    "        action = env_rand.action_space.sample()\n",
    "\n",
    "        observations.append(observation)\n",
    "        actions.append(action)\n",
    "        rewards.append(reward)\n",
    "        terminals.append(done)\n",
    "\n",
    "    dataset = None\n",
    "    if level_paths.dataset_path_rand.exists():\n",
    "        # NOTE: is this the correct type of buffer?\n",
    "        # see https://d3rlpy.readthedocs.io/en/latest/references/dataset.html\n",
    "        with level_paths.dataset_path_rand.open(\"rb\") as dataset_file:\n",
    "            dataset: ReplayBuffer = ReplayBuffer.load(dataset_file, d3rlpy.dataset.InfiniteBuffer())\n",
    "            dataset.append_episode(\n",
    "                d3rlpy.dataset.components.Episode(np.asarray(observations), np.asarray(actions)[:, np.newaxis],\n",
    "                                                  np.asarray(rewards)[:, np.newaxis], done))\n",
    "    else:\n",
    "        dataset = MDPDataset(np.asarray(observations), np.asarray(actions)[:, np.newaxis],\n",
    "                             np.asarray(rewards)[:, np.newaxis], np.asarray(terminals))\n",
    "    # FIXME: change this back\n",
    "    with open(level_paths.dataset_path_rand, \"w+b\") as f:\n",
    "        dataset.dump(f)\n",
    "\n",
    "print(\"\\nDone!\")"
   ]
  },
  {
   "cell_type": "markdown",
   "metadata": {},
   "source": [
    "## 2. Use the generated data to train a policy\n",
    "Now that you have generated some data for the neural network to train with, let's begin with the training.\n",
    "For the purpose of this exercise we will use the Offline RL Python library [d3rlpy](https://github.com/takuseno/d3rlpy).\n",
    "\n"
   ]
  },
  {
   "cell_type": "markdown",
   "metadata": {},
   "source": [
    "### 2.1 Choosing an algorithm\n",
    "![DQN](https://raw.githubusercontent.com/koerners/marioai/master/exercise_offline_rl/data/jupyter/dqn.PNG)\n",
    "\n",
    "#### Why we chose DQN\n",
    "The Deep Q-Network approach is known to have been able to achieve human-level control in Atari games, and it is able to learn successful policies directly from high-dimensional sensory inputs (like pixels) using end-to-end reinforcement learning which makes it ideal for our purpose. [[1]](https://www.nature.com/articles/nature14236) \n",
    "\n",
    "It uses data collected from an environment to learn and train without interacting with it.\n",
    "\n",
    "For more information on DQN, please refer to [this paper](https://www.nature.com/articles/nature14236).\n",
    "\n"
   ]
  },
  {
   "cell_type": "markdown",
   "metadata": {},
   "source": [
    "### 2.2 Setup the training\n",
    "First we set the training parameters.\n",
    "Most of these are fairly optimized but feel free to experiment."
   ]
  },
  {
   "cell_type": "code",
   "execution_count": 6,
   "metadata": {},
   "outputs": [],
   "source": [
    "# # Training parameters\n",
    "# n_epochs = 10 # <--- change here if you want to train more / less\n",
    "# n_steps_per_epoch = 1000\n",
    "# test_size = 0.1 # percentage of episodes not used for training\n",
    "\n",
    "# # DQN parameters\n",
    "# learning_rate = 0.0003 # to what extent the agent overrides old information with new information\n",
    "# gamma = 0.99 # discount factor, how important future rewards are\n",
    "# target_update_interval = 3000 # interval of steps that the agent uses to update target network\n",
    "# batch_size = 2 # size of training examples utilized in one iteration\n",
    "# use_gpu = False # usage of gpu to train"
   ]
  },
  {
   "cell_type": "markdown",
   "metadata": {},
   "source": [
    "### 2.3 Training time!"
   ]
  },
  {
   "cell_type": "markdown",
   "metadata": {},
   "source": [
    "To start the training run the next cell: "
   ]
  },
  {
   "cell_type": "markdown",
   "metadata": {},
   "source": [
    "### DQN"
   ]
  },
  {
   "cell_type": "code",
   "execution_count": 6,
   "metadata": {},
   "outputs": [
    {
     "name": "stdout",
     "output_type": "stream",
     "text": [
      "getDataset dataset: D:\\marioai\\exercise_offline_rl\\data\\datasets\\CliffsAndEnemiesLevel.h5\n",
      "getDataset dataset: D:\\marioai\\exercise_offline_rl\\data\\datasets\\ClimbLevel.h5\n",
      "getDataset dataset: D:\\marioai\\exercise_offline_rl\\data\\datasets\\RoughTerrainLevel.h5\n",
      "getDataset dataset: D:\\marioai\\exercise_offline_rl\\data\\datasets\\RoughTerrainLevel.random.h5\n",
      "len(train_episodes)=22\n",
      "len(test_episodes)=3\n",
      "observation_shape:  (800,)\n",
      "dataset_info.action_size:  13\n",
      "Running on port 8080\n",
      "2023-09-02 23:21:24 [info     ] dataset info                   dataset_info=DatasetInfo(observation_signature=Signature(dtype=[dtype('int8')], shape=[(800,)]), action_signature=Signature(dtype=[dtype('int64')], shape=[(1,)]), reward_signature=Signature(dtype=[dtype('float64')], shape=[(1,)]), action_space=<ActionSpace.DISCRETE: 2>, action_size=13)\n",
      "2023-09-02 23:21:24 [info     ] Directory is created at d3rlpy_logs\\DoubleDQN_20230902232124\n",
      "2023-09-02 23:21:24 [warning  ] Skip building models since they're already built.\n",
      "2023-09-02 23:21:24 [info     ] Parameters                     params={'observation_shape': [800], 'action_size': 13, 'config': {'type': 'double_dqn', 'params': {'batch_size': 20, 'gamma': 0.99, 'observation_scaler': {'type': 'none', 'params': {}}, 'action_scaler': {'type': 'none', 'params': {}}, 'reward_scaler': {'type': 'none', 'params': {}}, 'learning_rate': 0.003, 'optim_factory': {'type': 'adam', 'params': {'betas': [0.9, 0.999], 'eps': 1e-08, 'weight_decay': 0, 'amsgrad': False}}, 'encoder_factory': {'type': 'default', 'params': {'activation': 'relu', 'use_batch_norm': False, 'dropout_rate': None}}, 'q_func_factory': {'type': 'mean', 'params': {'share_encoder': False}}, 'n_critics': 1, 'target_update_interval': 3000}}}\n"
     ]
    },
    {
     "data": {
      "application/vnd.jupyter.widget-view+json": {
       "model_id": "f8d3858279a64538888c6431cccb13c8",
       "version_major": 2,
       "version_minor": 0
      },
      "text/plain": [
       "Epoch 1/10:   0%|          | 0/1000 [00:00<?, ?it/s]"
      ]
     },
     "metadata": {},
     "output_type": "display_data"
    },
    {
     "name": "stderr",
     "output_type": "stream",
     "text": [
      "d:\\marioai\\marioenv\\lib\\site-packages\\gym\\utils\\passive_env_checker.py:233: DeprecationWarning: `np.bool8` is a deprecated alias for `np.bool_`.  (Deprecated NumPy 1.24)\n",
      "  if not isinstance(terminated, (bool, np.bool8)):\n"
     ]
    },
    {
     "name": "stdout",
     "output_type": "stream",
     "text": [
      "stuck reward added\n",
      "stuck reward added\n",
      "stuck reward added\n",
      "stuck reward added\n",
      "2023-09-02 23:21:34 [info     ] DoubleDQN_20230902232124: epoch=1 step=1000 epoch=1 metrics={'time_sample_batch': 0.0008266367912292481, 'time_algorithm_update': 0.007433300733566284, 'loss': 1.6175360508039593, 'time_step': 0.008393489122390747, 'td_error': 1427.8126699013658, 'value_scale': 0.2756750646370945, 'environment': -153.8000000000003} step=1000\n",
      "2023-09-02 23:21:34 [info     ] Model parameters are saved to d3rlpy_logs\\DoubleDQN_20230902232124\\model_1000.d3\n",
      "current_reward=-153.8000000000003\n",
      "saving version to file\n"
     ]
    },
    {
     "data": {
      "application/vnd.jupyter.widget-view+json": {
       "model_id": "c1a05f8dd5dc4ed69154ff1e7fcc7d97",
       "version_major": 2,
       "version_minor": 0
      },
      "text/plain": [
       "Epoch 2/10:   0%|          | 0/1000 [00:00<?, ?it/s]"
      ]
     },
     "metadata": {},
     "output_type": "display_data"
    },
    {
     "name": "stdout",
     "output_type": "stream",
     "text": [
      "stuck reward added\n",
      "stuck reward added\n",
      "stuck reward added\n",
      "stuck reward added\n",
      "2023-09-02 23:21:44 [info     ] DoubleDQN_20230902232124: epoch=2 step=2000 epoch=2 metrics={'time_sample_batch': 0.0007269816398620605, 'time_algorithm_update': 0.008166110277175903, 'loss': 1.3098959077275358, 'time_step': 0.00900387191772461, 'td_error': 1422.5818141726572, 'value_scale': 0.26110067113256413, 'environment': -153.60000000000028} step=2000\n",
      "2023-09-02 23:21:44 [info     ] Model parameters are saved to d3rlpy_logs\\DoubleDQN_20230902232124\\model_2000.d3\n",
      "current_reward=-153.60000000000028\n",
      "saving version to file\n"
     ]
    },
    {
     "data": {
      "application/vnd.jupyter.widget-view+json": {
       "model_id": "6736079b8c464ab9a13c31b1e3ad6548",
       "version_major": 2,
       "version_minor": 0
      },
      "text/plain": [
       "Epoch 3/10:   0%|          | 0/1000 [00:00<?, ?it/s]"
      ]
     },
     "metadata": {},
     "output_type": "display_data"
    },
    {
     "name": "stdout",
     "output_type": "stream",
     "text": [
      "stuck reward added\n",
      "stuck reward added\n",
      "stuck reward added\n",
      "stuck reward added\n",
      "2023-09-02 23:21:56 [info     ] DoubleDQN_20230902232124: epoch=3 step=3000 epoch=3 metrics={'time_sample_batch': 0.0007689831256866455, 'time_algorithm_update': 0.009534359931945801, 'loss': 1.1902936113104223, 'time_step': 0.010438069105148315, 'td_error': 1427.758755453999, 'value_scale': 0.22018756557797603, 'environment': -153.7000000000003} step=3000\n",
      "2023-09-02 23:21:58 [info     ] Model parameters are saved to d3rlpy_logs\\DoubleDQN_20230902232124\\model_3000.d3\n",
      "current_reward=-153.7000000000003\n"
     ]
    },
    {
     "data": {
      "application/vnd.jupyter.widget-view+json": {
       "model_id": "c260d3d95a7a4f59a8f49b840fead38e",
       "version_major": 2,
       "version_minor": 0
      },
      "text/plain": [
       "Epoch 4/10:   0%|          | 0/1000 [00:00<?, ?it/s]"
      ]
     },
     "metadata": {},
     "output_type": "display_data"
    },
    {
     "name": "stdout",
     "output_type": "stream",
     "text": [
      "stuck reward added\n",
      "stuck reward added\n",
      "stuck reward added\n",
      "stuck reward added\n",
      "2023-09-02 23:22:10 [info     ] DoubleDQN_20230902232124: epoch=4 step=4000 epoch=4 metrics={'time_sample_batch': 0.0008590211868286133, 'time_algorithm_update': 0.010427717208862305, 'loss': 1.3358686340861023, 'time_step': 0.01142545223236084, 'td_error': 1483.3683207169163, 'value_scale': 0.6012099712479411, 'environment': -153.8000000000003} step=4000\n",
      "2023-09-02 23:22:10 [info     ] Model parameters are saved to d3rlpy_logs\\DoubleDQN_20230902232124\\model_4000.d3\n",
      "current_reward=-153.8000000000003\n"
     ]
    },
    {
     "data": {
      "application/vnd.jupyter.widget-view+json": {
       "model_id": "073939a89e7d49ac93132c88316bb5a0",
       "version_major": 2,
       "version_minor": 0
      },
      "text/plain": [
       "Epoch 5/10:   0%|          | 0/1000 [00:00<?, ?it/s]"
      ]
     },
     "metadata": {},
     "output_type": "display_data"
    },
    {
     "name": "stdout",
     "output_type": "stream",
     "text": [
      "stuck reward added\n",
      "stuck reward added\n",
      "stuck reward added\n",
      "stuck reward added\n",
      "2023-09-02 23:22:23 [info     ] DoubleDQN_20230902232124: epoch=5 step=5000 epoch=5 metrics={'time_sample_batch': 0.0008279759883880615, 'time_algorithm_update': 0.010550524234771728, 'loss': 1.2749669755948707, 'time_step': 0.011512222766876221, 'td_error': 1441.3976279057606, 'value_scale': 0.42550532462286716, 'environment': -153.60000000000028} step=5000\n",
      "2023-09-02 23:22:23 [info     ] Model parameters are saved to d3rlpy_logs\\DoubleDQN_20230902232124\\model_5000.d3\n",
      "current_reward=-153.60000000000028\n"
     ]
    },
    {
     "data": {
      "application/vnd.jupyter.widget-view+json": {
       "model_id": "3a95baecfcd649c1b2c45c204a4d82c9",
       "version_major": 2,
       "version_minor": 0
      },
      "text/plain": [
       "Epoch 6/10:   0%|          | 0/1000 [00:00<?, ?it/s]"
      ]
     },
     "metadata": {},
     "output_type": "display_data"
    },
    {
     "name": "stdout",
     "output_type": "stream",
     "text": [
      "stuck reward added\n",
      "stuck reward added\n",
      "stuck reward added\n",
      "stuck reward added\n",
      "2023-09-02 23:22:36 [info     ] DoubleDQN_20230902232124: epoch=6 step=6000 epoch=6 metrics={'time_sample_batch': 0.0008159253597259522, 'time_algorithm_update': 0.010655330181121827, 'loss': 0.9624071037834511, 'time_step': 0.011606868982315064, 'td_error': 1533.2864325411447, 'value_scale': 0.6520451173688292, 'environment': -153.50000000000028} step=6000\n",
      "2023-09-02 23:22:36 [info     ] Model parameters are saved to d3rlpy_logs\\DoubleDQN_20230902232124\\model_6000.d3\n",
      "current_reward=-153.50000000000028\n",
      "saving version to file\n"
     ]
    },
    {
     "data": {
      "application/vnd.jupyter.widget-view+json": {
       "model_id": "d3b277706e4e49af82b559ec38715968",
       "version_major": 2,
       "version_minor": 0
      },
      "text/plain": [
       "Epoch 7/10:   0%|          | 0/1000 [00:00<?, ?it/s]"
      ]
     },
     "metadata": {},
     "output_type": "display_data"
    },
    {
     "name": "stdout",
     "output_type": "stream",
     "text": [
      "stuck reward added\n",
      "stuck reward added\n",
      "stuck reward added\n",
      "stuck reward added\n",
      "2023-09-02 23:22:48 [info     ] DoubleDQN_20230902232124: epoch=7 step=7000 epoch=7 metrics={'time_sample_batch': 0.0008376748561859131, 'time_algorithm_update': 0.010841094970703125, 'loss': 1.8487919286079704, 'time_step': 0.011795400857925416, 'td_error': 1591.796546861339, 'value_scale': 1.1261159782766874, 'environment': -153.50000000000028} step=7000\n",
      "2023-09-02 23:22:48 [info     ] Model parameters are saved to d3rlpy_logs\\DoubleDQN_20230902232124\\model_7000.d3\n",
      "current_reward=-153.50000000000028\n"
     ]
    },
    {
     "data": {
      "application/vnd.jupyter.widget-view+json": {
       "model_id": "d474bbf3519a4e35a911d01428030fc9",
       "version_major": 2,
       "version_minor": 0
      },
      "text/plain": [
       "Epoch 8/10:   0%|          | 0/1000 [00:00<?, ?it/s]"
      ]
     },
     "metadata": {},
     "output_type": "display_data"
    },
    {
     "name": "stdout",
     "output_type": "stream",
     "text": [
      "stuck reward added\n",
      "stuck reward added\n",
      "stuck reward added\n",
      "stuck reward added\n",
      "2023-09-02 23:23:00 [info     ] DoubleDQN_20230902232124: epoch=8 step=8000 epoch=8 metrics={'time_sample_batch': 0.0008066201210021973, 'time_algorithm_update': 0.010010480165481568, 'loss': 1.3667641824726016, 'time_step': 0.010949841260910035, 'td_error': 1257.3607266260196, 'value_scale': 1.101682568206749, 'environment': -153.6000000000003} step=8000\n",
      "2023-09-02 23:23:00 [info     ] Model parameters are saved to d3rlpy_logs\\DoubleDQN_20230902232124\\model_8000.d3\n",
      "current_reward=-153.6000000000003\n"
     ]
    },
    {
     "data": {
      "application/vnd.jupyter.widget-view+json": {
       "model_id": "e55db324e4e8497a8533ca43a026a284",
       "version_major": 2,
       "version_minor": 0
      },
      "text/plain": [
       "Epoch 9/10:   0%|          | 0/1000 [00:00<?, ?it/s]"
      ]
     },
     "metadata": {},
     "output_type": "display_data"
    },
    {
     "name": "stdout",
     "output_type": "stream",
     "text": [
      "stuck reward added\n",
      "stuck reward added\n",
      "stuck reward added\n",
      "2023-09-02 23:23:14 [info     ] DoubleDQN_20230902232124: epoch=9 step=9000 epoch=9 metrics={'time_sample_batch': 0.0008884186744689941, 'time_algorithm_update': 0.01139556360244751, 'loss': 1.0820626369779929, 'time_step': 0.012411648750305176, 'td_error': 1131.7962506845122, 'value_scale': 1.3878281171070346, 'environment': -149.6000000000003} step=9000\n",
      "2023-09-02 23:23:14 [info     ] Model parameters are saved to d3rlpy_logs\\DoubleDQN_20230902232124\\model_9000.d3\n",
      "current_reward=-149.6000000000003\n",
      "saving version to file\n"
     ]
    },
    {
     "data": {
      "application/vnd.jupyter.widget-view+json": {
       "model_id": "ef93eb3ca6ca48c395095bdfce27a7da",
       "version_major": 2,
       "version_minor": 0
      },
      "text/plain": [
       "Epoch 10/10:   0%|          | 0/1000 [00:00<?, ?it/s]"
      ]
     },
     "metadata": {},
     "output_type": "display_data"
    },
    {
     "name": "stdout",
     "output_type": "stream",
     "text": [
      "stuck reward added\n",
      "stuck reward added\n",
      "stuck reward added\n",
      "stuck reward added\n",
      "stuck reward added\n",
      "2023-09-02 23:23:26 [info     ] DoubleDQN_20230902232124: epoch=10 step=10000 epoch=10 metrics={'time_sample_batch': 0.0008142156600952149, 'time_algorithm_update': 0.01018642783164978, 'loss': 1.058670559598133, 'time_step': 0.01112925934791565, 'td_error': 1153.2799737524679, 'value_scale': 1.7764326297407242, 'environment': -157.60000000000036} step=10000\n",
      "2023-09-02 23:23:26 [info     ] Model parameters are saved to d3rlpy_logs\\DoubleDQN_20230902232124\\model_10000.d3\n",
      "current_reward=-157.60000000000036\n"
     ]
    }
   ],
   "source": [
    "\n",
    "# run_dqn\n",
    "visible = False\n",
    "dataset = getDataset()\n",
    "# dataset = getSpecificDataset(level_paths.level_name)\n",
    "train_episodes, test_episodes = train_test_split(dataset.episodes, test_size=test_size)\n",
    "train_dataset = ReplayBuffer(InfiniteBuffer(), episodes=train_episodes)\n",
    "print(f\"{len(train_episodes)=}\")\n",
    "print(f\"{len(test_episodes)=}\")\n",
    "\n",
    "\n",
    "dqn = d3rlpy.algos.DoubleDQNConfig(learning_rate=learning_rate, gamma=gamma,\n",
    "                                    target_update_interval=target_update_interval,\n",
    "                                    batch_size=batch_size).create(device=use_gpu)\n",
    "# Needs to be rebuilt\n",
    "dqn.build_with_dataset(train_dataset)\n",
    "\n",
    "# set environment in scorer function\n",
    "env_train = Env(visible=visible, level=str(level_paths.level), port=8080).env\n",
    "# set environment in scorer function\n",
    "# only run right now, as there is no randomness in the game\n",
    "env_evaluator = EnvironmentEvaluator(env_train, n_trials=1)\n",
    "\n",
    "# evaluate algorithm on the environment\n",
    "\n",
    "name = 'DQN_marioai_%s_%s_%s_%s_%s' % (level_paths.level_name, gamma, learning_rate, target_update_interval, n_epochs)\n",
    "model_file = init_dir / pathlib.Path(\"data\", \"models\", name + \".pt\")\n",
    "currentMax = -100000\n",
    "dqn_max = copy.deepcopy(dqn)\n",
    "\n",
    "fitter = dqn.fitter(\n",
    "    train_dataset,\n",
    "    n_steps=n_steps_per_epoch * n_epochs,\n",
    "    n_steps_per_epoch=n_steps_per_epoch,\n",
    "    evaluators={'td_error': d3rlpy.metrics.TDErrorEvaluator(test_episodes),\n",
    "                'value_scale': d3rlpy.metrics.AverageValueEstimationEvaluator(test_episodes),\n",
    "                'environment': env_evaluator}\n",
    ")\n",
    "\n",
    "for epoch, metrics in fitter:\n",
    "    current_reward = metrics.get(\"environment\")\n",
    "    print(f\"{current_reward=}\")\n",
    "    if current_reward > currentMax:\n",
    "        print(\"saving version to file\")\n",
    "        currentMax = current_reward\n",
    "        dqn.save_model(model_file)\n",
    "    # FIXME: what is the correct value?\n",
    "    if current_reward > 1000:\n",
    "        # For the purpose of the exercise the training will stop if the agent manages to complete the level\n",
    "        print(\"A suitable model has been found.\")\n",
    "        break"
   ]
  },
  {
   "cell_type": "markdown",
   "metadata": {},
   "source": [
    "### DDQN"
   ]
  },
  {
   "cell_type": "code",
   "execution_count": 9,
   "metadata": {},
   "outputs": [
    {
     "name": "stdout",
     "output_type": "stream",
     "text": [
      "getDataset dataset: D:\\marioai\\exercise_offline_rl\\data\\datasets\\CliffsAndEnemiesLevel.h5\n",
      "getDataset dataset: D:\\marioai\\exercise_offline_rl\\data\\datasets\\ClimbLevel.h5\n",
      "getDataset dataset: D:\\marioai\\exercise_offline_rl\\data\\datasets\\RoughTerrainLevel.h5\n",
      "getDataset dataset: D:\\marioai\\exercise_offline_rl\\data\\datasets\\RoughTerrainLevel.random.h5\n",
      "len(train_episodes)=22\n",
      "len(test_episodes)=3\n",
      "observation_shape:  (800,)\n",
      "dataset_info.action_size:  13\n",
      "Running on port 8080\n",
      "2023-09-02 23:18:53 [info     ] dataset info                   dataset_info=DatasetInfo(observation_signature=Signature(dtype=[dtype('int8')], shape=[(800,)]), action_signature=Signature(dtype=[dtype('int64')], shape=[(1,)]), reward_signature=Signature(dtype=[dtype('float64')], shape=[(1,)]), action_space=<ActionSpace.DISCRETE: 2>, action_size=13)\n",
      "2023-09-02 23:18:53 [info     ] Directory is created at d3rlpy_logs\\DoubleDQN_20230902231853\n",
      "2023-09-02 23:18:53 [warning  ] Skip building models since they're already built.\n",
      "2023-09-02 23:18:53 [info     ] Parameters                     params={'observation_shape': [800], 'action_size': 13, 'config': {'type': 'double_dqn', 'params': {'batch_size': 20, 'gamma': 0.99, 'observation_scaler': {'type': 'none', 'params': {}}, 'action_scaler': {'type': 'none', 'params': {}}, 'reward_scaler': {'type': 'none', 'params': {}}, 'learning_rate': 0.003, 'optim_factory': {'type': 'adam', 'params': {'betas': [0.9, 0.999], 'eps': 1e-08, 'weight_decay': 0, 'amsgrad': False}}, 'encoder_factory': {'type': 'default', 'params': {'activation': 'relu', 'use_batch_norm': False, 'dropout_rate': None}}, 'q_func_factory': {'type': 'mean', 'params': {'share_encoder': False}}, 'n_critics': 1, 'target_update_interval': 3000}}}\n"
     ]
    },
    {
     "data": {
      "application/vnd.jupyter.widget-view+json": {
       "model_id": "5184c9065da540afa935a98de6354e18",
       "version_major": 2,
       "version_minor": 0
      },
      "text/plain": [
       "Epoch 1/10:   0%|          | 0/1000 [00:00<?, ?it/s]"
      ]
     },
     "metadata": {},
     "output_type": "display_data"
    }
   ],
   "source": [
    "\n",
    "# run_ddqn\n",
    "visible = False\n",
    "dataset = getDataset()\n",
    "# dataset = getSpecificDataset(level_paths.level_name)\n",
    "train_episodes, test_episodes = train_test_split(dataset.episodes, test_size=test_size)\n",
    "train_dataset = ReplayBuffer(InfiniteBuffer(), episodes=train_episodes)\n",
    "print(f\"{len(train_episodes)=}\")\n",
    "print(f\"{len(test_episodes)=}\")\n",
    "\n",
    "\n",
    "ddqn = d3rlpy.algos.DoubleDQNConfig(learning_rate=learning_rate, gamma=gamma,\n",
    "                                    target_update_interval=target_update_interval,\n",
    "                                    batch_size=batch_size).create(device=use_gpu)\n",
    "# Needs to be rebuilt\n",
    "ddqn.build_with_dataset(train_dataset)\n",
    "\n",
    "# set environment in scorer function\n",
    "env_train = Env(visible=visible, level=str(level_paths.level), port=8080).env\n",
    "# set environment in scorer function\n",
    "# only run right now, as there is no randomness in the game\n",
    "env_evaluator = EnvironmentEvaluator(env_train, n_trials=1)\n",
    "\n",
    "# evaluate algorithm on the environment\n",
    "\n",
    "name = 'DDQN_marioai_%s_%s_%s_%s_%s' % (level_paths.level_name, gamma, learning_rate, target_update_interval, n_epochs)\n",
    "model_file = init_dir / pathlib.Path(\"data\", \"models\", name + \".pt\")\n",
    "currentMax = -100000\n",
    "ddqn_max = copy.deepcopy(ddqn)\n",
    "\n",
    "fitter = ddqn.fitter(\n",
    "    train_dataset,\n",
    "    n_steps=n_steps_per_epoch * n_epochs,\n",
    "    n_steps_per_epoch=n_steps_per_epoch,\n",
    "    evaluators={'td_error': d3rlpy.metrics.TDErrorEvaluator(test_episodes),\n",
    "                'value_scale': d3rlpy.metrics.AverageValueEstimationEvaluator(test_episodes),\n",
    "                'environment': env_evaluator}\n",
    ")\n",
    "\n",
    "for epoch, metrics in fitter:\n",
    "    current_reward = metrics.get(\"environment\")\n",
    "    print(f\"{current_reward=}\")\n",
    "    if current_reward > currentMax:\n",
    "        print(\"saving version to file\")\n",
    "        currentMax = current_reward\n",
    "        ddqn.save_model(model_file)\n",
    "    # FIXME: what is the correct value?\n",
    "    if current_reward > 1000:\n",
    "        # For the purpose of the exercise the training will stop if the agent manages to complete the level\n",
    "        print(\"A suitable model has been found.\")\n",
    "        break"
   ]
  },
  {
   "cell_type": "markdown",
   "metadata": {},
   "source": [
    "### Refine DDQN"
   ]
  },
  {
   "cell_type": "code",
   "execution_count": 14,
   "metadata": {},
   "outputs": [
    {
     "name": "stdout",
     "output_type": "stream",
     "text": [
      "level location=levels\\CliffsAndEnemiesLevel.lvl\n",
      "D:\\marioai\\exercise_offline_rl\\data\\datasets\\ClimbLevel.h5\n",
      "len(train_episodes)=3\n",
      "len(test_episodes)=1\n",
      "observation_shape:  (800,)\n",
      "dataset_info.action_size:  13\n",
      "Running on port 8080\n",
      "2023-09-02 23:37:14 [info     ] dataset info                   dataset_info=DatasetInfo(observation_signature=Signature(dtype=[dtype('int8')], shape=[(800,)]), action_signature=Signature(dtype=[dtype('int64')], shape=[(1,)]), reward_signature=Signature(dtype=[dtype('float64')], shape=[(1,)]), action_space=<ActionSpace.DISCRETE: 2>, action_size=13)\n",
      "2023-09-02 23:37:14 [info     ] Directory is created at d3rlpy_logs\\DoubleDQN_20230902233714\n",
      "2023-09-02 23:37:14 [warning  ] Skip building models since they're already built.\n",
      "2023-09-02 23:37:14 [info     ] Parameters                     params={'observation_shape': [800], 'action_size': 13, 'config': {'type': 'double_dqn', 'params': {'batch_size': 20, 'gamma': 0.99, 'observation_scaler': {'type': 'none', 'params': {}}, 'action_scaler': {'type': 'none', 'params': {}}, 'reward_scaler': {'type': 'none', 'params': {}}, 'learning_rate': 0.003, 'optim_factory': {'type': 'adam', 'params': {'betas': [0.9, 0.999], 'eps': 1e-08, 'weight_decay': 0, 'amsgrad': False}}, 'encoder_factory': {'type': 'default', 'params': {'activation': 'relu', 'use_batch_norm': False, 'dropout_rate': None}}, 'q_func_factory': {'type': 'mean', 'params': {'share_encoder': False}}, 'n_critics': 1, 'target_update_interval': 3000}}}\n"
     ]
    },
    {
     "data": {
      "application/vnd.jupyter.widget-view+json": {
       "model_id": "22e75a4cc3d94859964bc0f65bd98ff0",
       "version_major": 2,
       "version_minor": 0
      },
      "text/plain": [
       "Epoch 1/10:   0%|          | 0/1000 [00:00<?, ?it/s]"
      ]
     },
     "metadata": {},
     "output_type": "display_data"
    },
    {
     "name": "stdout",
     "output_type": "stream",
     "text": [
      "stuck reward added\n",
      "stuck reward added\n",
      "stuck reward added\n",
      "2023-09-02 23:38:29 [info     ] DoubleDQN_20230902233714: epoch=1 step=1000 epoch=1 metrics={'time_sample_batch': 0.0007849595546722412, 'time_algorithm_update': 0.01048581552505493, 'loss': 1.6468640314852818, 'time_step': 0.011403482675552369, 'td_error': 1699.7027134552404, 'value_scale': 12.84661738489666, 'environment': -136.3000000000003} step=1000\n",
      "2023-09-02 23:38:29 [info     ] Model parameters are saved to d3rlpy_logs\\DoubleDQN_20230902233714\\model_1000.d3\n",
      "current_reward=-136.3000000000003\n",
      "saving version to file\n"
     ]
    },
    {
     "data": {
      "application/vnd.jupyter.widget-view+json": {
       "model_id": "2dbe1de371544bec84ad45693667725b",
       "version_major": 2,
       "version_minor": 0
      },
      "text/plain": [
       "Epoch 2/10:   0%|          | 0/1000 [00:00<?, ?it/s]"
      ]
     },
     "metadata": {},
     "output_type": "display_data"
    },
    {
     "ename": "KeyboardInterrupt",
     "evalue": "",
     "output_type": "error",
     "traceback": [
      "\u001b[1;31m---------------------------------------------------------------------------\u001b[0m",
      "\u001b[1;31mKeyboardInterrupt\u001b[0m                         Traceback (most recent call last)",
      "Cell \u001b[1;32mIn[14], line 53\u001b[0m\n\u001b[0;32m     41\u001b[0m ddqn\u001b[39m.\u001b[39mload_model(model_file)\n\u001b[0;32m     44\u001b[0m fitter \u001b[39m=\u001b[39m ddqn\u001b[39m.\u001b[39mfitter(\n\u001b[0;32m     45\u001b[0m     train_dataset,\n\u001b[0;32m     46\u001b[0m     n_steps\u001b[39m=\u001b[39mn_steps_per_epoch \u001b[39m*\u001b[39m n_epochs,\n\u001b[1;32m   (...)\u001b[0m\n\u001b[0;32m     50\u001b[0m                 \u001b[39m'\u001b[39m\u001b[39menvironment\u001b[39m\u001b[39m'\u001b[39m: env_evaluator}\n\u001b[0;32m     51\u001b[0m )\n\u001b[1;32m---> 53\u001b[0m \u001b[39mfor\u001b[39;00m epoch, metrics \u001b[39min\u001b[39;00m fitter:\n\u001b[0;32m     54\u001b[0m     current_reward \u001b[39m=\u001b[39m metrics\u001b[39m.\u001b[39mget(\u001b[39m\"\u001b[39m\u001b[39menvironment\u001b[39m\u001b[39m\"\u001b[39m)\n\u001b[0;32m     55\u001b[0m     \u001b[39mprint\u001b[39m(\u001b[39mf\u001b[39m\u001b[39m\"\u001b[39m\u001b[39m{\u001b[39;00mcurrent_reward\u001b[39m=}\u001b[39;00m\u001b[39m\"\u001b[39m)\n",
      "File \u001b[1;32md:\\marioai\\marioenv\\lib\\site-packages\\d3rlpy\\algos\\qlearning\\base.py:522\u001b[0m, in \u001b[0;36mQLearningAlgoBase.fitter\u001b[1;34m(self, dataset, n_steps, n_steps_per_epoch, experiment_name, with_timestamp, logger_adapter, show_progress, save_interval, evaluators, callback, epoch_callback)\u001b[0m\n\u001b[0;32m    520\u001b[0m \u001b[39m# update parameters\u001b[39;00m\n\u001b[0;32m    521\u001b[0m \u001b[39mwith\u001b[39;00m logger\u001b[39m.\u001b[39mmeasure_time(\u001b[39m\"\u001b[39m\u001b[39malgorithm_update\u001b[39m\u001b[39m\"\u001b[39m):\n\u001b[1;32m--> 522\u001b[0m     loss \u001b[39m=\u001b[39m \u001b[39mself\u001b[39;49m\u001b[39m.\u001b[39;49mupdate(batch)\n\u001b[0;32m    524\u001b[0m \u001b[39m# record metrics\u001b[39;00m\n\u001b[0;32m    525\u001b[0m \u001b[39mfor\u001b[39;00m name, val \u001b[39min\u001b[39;00m loss\u001b[39m.\u001b[39mitems():\n",
      "File \u001b[1;32md:\\marioai\\marioenv\\lib\\site-packages\\d3rlpy\\algos\\qlearning\\base.py:822\u001b[0m, in \u001b[0;36mQLearningAlgoBase.update\u001b[1;34m(self, batch)\u001b[0m\n\u001b[0;32m    807\u001b[0m \u001b[39m\u001b[39m\u001b[39m\"\"\"Update parameters with mini-batch of data.\u001b[39;00m\n\u001b[0;32m    808\u001b[0m \n\u001b[0;32m    809\u001b[0m \u001b[39mArgs:\u001b[39;00m\n\u001b[1;32m   (...)\u001b[0m\n\u001b[0;32m    813\u001b[0m \u001b[39m    Dictionary of metrics.\u001b[39;00m\n\u001b[0;32m    814\u001b[0m \u001b[39m\"\"\"\u001b[39;00m\n\u001b[0;32m    815\u001b[0m torch_batch \u001b[39m=\u001b[39m TorchMiniBatch\u001b[39m.\u001b[39mfrom_batch(\n\u001b[0;32m    816\u001b[0m     batch\u001b[39m=\u001b[39mbatch,\n\u001b[0;32m    817\u001b[0m     device\u001b[39m=\u001b[39m\u001b[39mself\u001b[39m\u001b[39m.\u001b[39m_device,\n\u001b[1;32m   (...)\u001b[0m\n\u001b[0;32m    820\u001b[0m     reward_scaler\u001b[39m=\u001b[39m\u001b[39mself\u001b[39m\u001b[39m.\u001b[39m_config\u001b[39m.\u001b[39mreward_scaler,\n\u001b[0;32m    821\u001b[0m )\n\u001b[1;32m--> 822\u001b[0m loss \u001b[39m=\u001b[39m \u001b[39mself\u001b[39;49m\u001b[39m.\u001b[39;49minner_update(torch_batch)\n\u001b[0;32m    823\u001b[0m \u001b[39mself\u001b[39m\u001b[39m.\u001b[39m_grad_step \u001b[39m+\u001b[39m\u001b[39m=\u001b[39m \u001b[39m1\u001b[39m\n\u001b[0;32m    824\u001b[0m \u001b[39mreturn\u001b[39;00m loss\n",
      "File \u001b[1;32md:\\marioai\\marioenv\\lib\\site-packages\\d3rlpy\\algos\\qlearning\\dqn.py:95\u001b[0m, in \u001b[0;36mDQN.inner_update\u001b[1;34m(self, batch)\u001b[0m\n\u001b[0;32m     93\u001b[0m \u001b[39mdef\u001b[39;00m \u001b[39minner_update\u001b[39m(\u001b[39mself\u001b[39m, batch: TorchMiniBatch) \u001b[39m-\u001b[39m\u001b[39m>\u001b[39m Dict[\u001b[39mstr\u001b[39m, \u001b[39mfloat\u001b[39m]:\n\u001b[0;32m     94\u001b[0m     \u001b[39massert\u001b[39;00m \u001b[39mself\u001b[39m\u001b[39m.\u001b[39m_impl \u001b[39mis\u001b[39;00m \u001b[39mnot\u001b[39;00m \u001b[39mNone\u001b[39;00m, IMPL_NOT_INITIALIZED_ERROR\n\u001b[1;32m---> 95\u001b[0m     loss \u001b[39m=\u001b[39m \u001b[39mself\u001b[39;49m\u001b[39m.\u001b[39;49m_impl\u001b[39m.\u001b[39;49mupdate(batch)\n\u001b[0;32m     96\u001b[0m     \u001b[39mif\u001b[39;00m \u001b[39mself\u001b[39m\u001b[39m.\u001b[39m_grad_step \u001b[39m%\u001b[39m \u001b[39mself\u001b[39m\u001b[39m.\u001b[39m_config\u001b[39m.\u001b[39mtarget_update_interval \u001b[39m==\u001b[39m \u001b[39m0\u001b[39m:\n\u001b[0;32m     97\u001b[0m         \u001b[39mself\u001b[39m\u001b[39m.\u001b[39m_impl\u001b[39m.\u001b[39mupdate_target()\n",
      "File \u001b[1;32md:\\marioai\\marioenv\\lib\\site-packages\\d3rlpy\\torch_utility.py:300\u001b[0m, in \u001b[0;36mtrain_api.<locals>.wrapper\u001b[1;34m(self, *args, **kwargs)\u001b[0m\n\u001b[0;32m    298\u001b[0m \u001b[39mdef\u001b[39;00m \u001b[39mwrapper\u001b[39m(\u001b[39mself\u001b[39m: Any, \u001b[39m*\u001b[39margs: Any, \u001b[39m*\u001b[39m\u001b[39m*\u001b[39mkwargs: Any) \u001b[39m-\u001b[39m\u001b[39m>\u001b[39m Any:\n\u001b[0;32m    299\u001b[0m     set_train_mode(\u001b[39mself\u001b[39m)\n\u001b[1;32m--> 300\u001b[0m     \u001b[39mreturn\u001b[39;00m f(\u001b[39mself\u001b[39m, \u001b[39m*\u001b[39margs, \u001b[39m*\u001b[39m\u001b[39m*\u001b[39mkwargs)\n",
      "File \u001b[1;32md:\\marioai\\marioenv\\lib\\site-packages\\d3rlpy\\algos\\qlearning\\torch\\dqn_impl.py:48\u001b[0m, in \u001b[0;36mDQNImpl.update\u001b[1;34m(self, batch)\u001b[0m\n\u001b[0;32m     44\u001b[0m q_tpn \u001b[39m=\u001b[39m \u001b[39mself\u001b[39m\u001b[39m.\u001b[39mcompute_target(batch)\n\u001b[0;32m     46\u001b[0m loss \u001b[39m=\u001b[39m \u001b[39mself\u001b[39m\u001b[39m.\u001b[39mcompute_loss(batch, q_tpn)\n\u001b[1;32m---> 48\u001b[0m loss\u001b[39m.\u001b[39;49mbackward()\n\u001b[0;32m     49\u001b[0m \u001b[39mself\u001b[39m\u001b[39m.\u001b[39m_optim\u001b[39m.\u001b[39mstep()\n\u001b[0;32m     51\u001b[0m \u001b[39mreturn\u001b[39;00m \u001b[39mfloat\u001b[39m(loss\u001b[39m.\u001b[39mcpu()\u001b[39m.\u001b[39mdetach()\u001b[39m.\u001b[39mnumpy())\n",
      "File \u001b[1;32md:\\marioai\\marioenv\\lib\\site-packages\\torch\\_tensor.py:487\u001b[0m, in \u001b[0;36mTensor.backward\u001b[1;34m(self, gradient, retain_graph, create_graph, inputs)\u001b[0m\n\u001b[0;32m    477\u001b[0m \u001b[39mif\u001b[39;00m has_torch_function_unary(\u001b[39mself\u001b[39m):\n\u001b[0;32m    478\u001b[0m     \u001b[39mreturn\u001b[39;00m handle_torch_function(\n\u001b[0;32m    479\u001b[0m         Tensor\u001b[39m.\u001b[39mbackward,\n\u001b[0;32m    480\u001b[0m         (\u001b[39mself\u001b[39m,),\n\u001b[1;32m   (...)\u001b[0m\n\u001b[0;32m    485\u001b[0m         inputs\u001b[39m=\u001b[39minputs,\n\u001b[0;32m    486\u001b[0m     )\n\u001b[1;32m--> 487\u001b[0m torch\u001b[39m.\u001b[39;49mautograd\u001b[39m.\u001b[39;49mbackward(\n\u001b[0;32m    488\u001b[0m     \u001b[39mself\u001b[39;49m, gradient, retain_graph, create_graph, inputs\u001b[39m=\u001b[39;49minputs\n\u001b[0;32m    489\u001b[0m )\n",
      "File \u001b[1;32md:\\marioai\\marioenv\\lib\\site-packages\\torch\\autograd\\__init__.py:200\u001b[0m, in \u001b[0;36mbackward\u001b[1;34m(tensors, grad_tensors, retain_graph, create_graph, grad_variables, inputs)\u001b[0m\n\u001b[0;32m    195\u001b[0m     retain_graph \u001b[39m=\u001b[39m create_graph\n\u001b[0;32m    197\u001b[0m \u001b[39m# The reason we repeat same the comment below is that\u001b[39;00m\n\u001b[0;32m    198\u001b[0m \u001b[39m# some Python versions print out the first line of a multi-line function\u001b[39;00m\n\u001b[0;32m    199\u001b[0m \u001b[39m# calls in the traceback and some print out the last line\u001b[39;00m\n\u001b[1;32m--> 200\u001b[0m Variable\u001b[39m.\u001b[39;49m_execution_engine\u001b[39m.\u001b[39;49mrun_backward(  \u001b[39m# Calls into the C++ engine to run the backward pass\u001b[39;49;00m\n\u001b[0;32m    201\u001b[0m     tensors, grad_tensors_, retain_graph, create_graph, inputs,\n\u001b[0;32m    202\u001b[0m     allow_unreachable\u001b[39m=\u001b[39;49m\u001b[39mTrue\u001b[39;49;00m, accumulate_grad\u001b[39m=\u001b[39;49m\u001b[39mTrue\u001b[39;49;00m)\n",
      "\u001b[1;31mKeyboardInterrupt\u001b[0m: "
     ]
    }
   ],
   "source": [
    "\n",
    "visible = True\n",
    "\n",
    "# Setup global variables\n",
    "# init_dir = pathlib.Path(__file__).parent\n",
    "\n",
    "level_paths: LevelPaths = LevelPaths(init_dir, \"CliffsAndEnemiesLevel.lvl\")\n",
    "\n",
    "level_paths_other: LevelPaths = LevelPaths(init_dir, \"ClimbLevel.lvl\")\n",
    "\n",
    "print(f\"level location={level_paths.level}\")\n",
    "\n",
    "# run_ddqn\n",
    "dataset = getSpecificDataset(level_paths_other.level_name)\n",
    "train_episodes, test_episodes = train_test_split(dataset.episodes, test_size=test_size)\n",
    "train_dataset = ReplayBuffer(InfiniteBuffer(), episodes=train_episodes)\n",
    "print(f\"{len(train_episodes)=}\")\n",
    "print(f\"{len(test_episodes)=}\")\n",
    "\n",
    "# exit()\n",
    "\n",
    "ddqn = d3rlpy.algos.DoubleDQNConfig(learning_rate=learning_rate, gamma=gamma,\n",
    "                                    target_update_interval=target_update_interval,\n",
    "                                    batch_size=batch_size).create()\n",
    "# Needs to be rebuilt\n",
    "ddqn.build_with_dataset(train_dataset)\n",
    "# exit()\n",
    "\n",
    "# set environment in scorer function\n",
    "env_train = Env(visible=visible, level=str(level_paths_other.level), port=8080).env\n",
    "# set environment in scorer function\n",
    "# only run right now, as there is no randomness in the game\n",
    "env_evaluator = EnvironmentEvaluator(env_train, n_trials=1)\n",
    "\n",
    "# evaluate algorithm on the environment\n",
    "\n",
    "name = 'DDQN_marioai_%s_%s_%s_%s' % (gamma, learning_rate, target_update_interval, n_epochs)\n",
    "model_file = init_dir / pathlib.Path(\"data\", \"models\", name + \".pt\")\n",
    "currentMax = -100000\n",
    "ddqn_max = copy.deepcopy(ddqn)\n",
    "\n",
    "ddqn.load_model(model_file)\n",
    "\n",
    "\n",
    "fitter = ddqn.fitter(\n",
    "    train_dataset,\n",
    "    n_steps=n_steps_per_epoch * n_epochs,\n",
    "    n_steps_per_epoch=n_steps_per_epoch,\n",
    "    evaluators={'td_error': d3rlpy.metrics.TDErrorEvaluator(test_episodes),\n",
    "                'value_scale': d3rlpy.metrics.AverageValueEstimationEvaluator(test_episodes),\n",
    "                'environment': env_evaluator}\n",
    ")\n",
    "\n",
    "for epoch, metrics in fitter:\n",
    "    current_reward = metrics.get(\"environment\")\n",
    "    print(f\"{current_reward=}\")\n",
    "    if current_reward > currentMax:\n",
    "        print(\"saving version to file\")\n",
    "        currentMax = current_reward\n",
    "        ddqn.save_model(model_file)\n",
    "    # FIXME: what is the correct value?\n",
    "    if current_reward > 1000:\n",
    "        # For the purpose of the exercise the training will stop if the agent manages to complete the level\n",
    "        print(\"A suitable model has been found.\")\n",
    "        break\n"
   ]
  },
  {
   "cell_type": "markdown",
   "metadata": {},
   "source": [
    "### DiscreteSAC"
   ]
  },
  {
   "cell_type": "code",
   "execution_count": 9,
   "metadata": {},
   "outputs": [
    {
     "name": "stdout",
     "output_type": "stream",
     "text": [
      "getDataset dataset: D:\\marioai\\exercise_offline_rl\\data\\datasets\\CliffsAndEnemiesLevel.h5\n",
      "getDataset dataset: D:\\marioai\\exercise_offline_rl\\data\\datasets\\ClimbLevel.h5\n",
      "getDataset dataset: D:\\marioai\\exercise_offline_rl\\data\\datasets\\RoughTerrainLevel.h5\n",
      "getDataset dataset: D:\\marioai\\exercise_offline_rl\\data\\datasets\\RoughTerrainLevel.random.h5\n",
      "25\n",
      "len(train_episodes)=22\n",
      "len(test_episodes)=3\n",
      "Running on port 62929\n",
      "observation_shape:  (800,)\n",
      "dataset_info.action_size:  13\n",
      "2023-09-02 23:25:23 [info     ] dataset info                   dataset_info=DatasetInfo(observation_signature=Signature(dtype=[dtype('int8')], shape=[(800,)]), action_signature=Signature(dtype=[dtype('int64')], shape=[(1,)]), reward_signature=Signature(dtype=[dtype('float64')], shape=[(1,)]), action_space=<ActionSpace.DISCRETE: 2>, action_size=13)\n",
      "2023-09-02 23:25:23 [info     ] Directory is created at d3rlpy_logs\\DiscreteSAC_20230902232523\n",
      "2023-09-02 23:25:23 [warning  ] Skip building models since they're already built.\n",
      "2023-09-02 23:25:23 [info     ] Parameters                     params={'observation_shape': [800], 'action_size': 13, 'config': {'type': 'discrete_sac', 'params': {'batch_size': 20, 'gamma': 0.99, 'observation_scaler': {'type': 'none', 'params': {}}, 'action_scaler': {'type': 'none', 'params': {}}, 'reward_scaler': {'type': 'none', 'params': {}}, 'actor_learning_rate': 0.003, 'critic_learning_rate': 0.003, 'temp_learning_rate': 0.003, 'actor_optim_factory': {'type': 'adam', 'params': {'betas': [0.9, 0.999], 'eps': 1e-08, 'weight_decay': 0, 'amsgrad': False}}, 'critic_optim_factory': {'type': 'adam', 'params': {'betas': [0.9, 0.999], 'eps': 1e-08, 'weight_decay': 0, 'amsgrad': False}}, 'temp_optim_factory': {'type': 'adam', 'params': {'betas': [0.9, 0.999], 'eps': 1e-08, 'weight_decay': 0, 'amsgrad': False}}, 'actor_encoder_factory': {'type': 'default', 'params': {'activation': 'relu', 'use_batch_norm': False, 'dropout_rate': None}}, 'critic_encoder_factory': {'type': 'default', 'params': {'activation': 'relu', 'use_batch_norm': False, 'dropout_rate': None}}, 'q_func_factory': {'type': 'mean', 'params': {'share_encoder': False}}, 'n_critics': 2, 'initial_temperature': 1.0, 'target_update_interval': 8000}}}\n",
      "stuck reward added\n",
      "stuck reward added\n",
      "stuck reward added\n",
      "stuck reward added\n",
      "2023-09-02 23:25:46 [info     ] DiscreteSAC_20230902232523: epoch=1 step=1000 epoch=1 metrics={'time_sample_batch': 0.0006731231212615967, 'time_algorithm_update': 0.02076712942123413, 'temp_loss': 0.01584747772863011, 'temp': 0.6029954119622707, 'critic_loss': 2.9931861933916806, 'actor_loss': -3.0371976231336593, 'time_step': 0.021506085634231568, 'td_error': 1615.40770827658, 'value_scale': 1.0173307544190235, 'environment': -153.8000000000003} step=1000\n",
      "2023-09-02 23:25:46 [info     ] Model parameters are saved to d3rlpy_logs\\DiscreteSAC_20230902232523\\model_1000.d3\n",
      "stuck reward added\n",
      "stuck reward added\n",
      "stuck reward added\n",
      "stuck reward added\n",
      "2023-09-02 23:26:15 [info     ] DiscreteSAC_20230902232523: epoch=2 step=2000 epoch=2 metrics={'time_sample_batch': 0.0007011873722076416, 'time_algorithm_update': 0.02659175181388855, 'temp_loss': 0.0006762857569360676, 'temp': 0.3450033430159092, 'critic_loss': 2.8387617126246916, 'actor_loss': -1.758355867266655, 'time_step': 0.027390709877014162, 'td_error': 1617.4279743778877, 'value_scale': 1.0142941176169722, 'environment': -153.8000000000003} step=2000\n",
      "2023-09-02 23:26:15 [info     ] Model parameters are saved to d3rlpy_logs\\DiscreteSAC_20230902232523\\model_2000.d3\n",
      "stuck reward added\n",
      "stuck reward added\n",
      "stuck reward added\n",
      "stuck reward added\n",
      "2023-09-02 23:26:47 [info     ] DiscreteSAC_20230902232523: epoch=3 step=3000 epoch=3 metrics={'time_sample_batch': 0.0008149054050445556, 'time_algorithm_update': 0.030047407865524293, 'temp_loss': 0.00047481570933337027, 'temp': 0.3226051571965218, 'critic_loss': 2.6961558424849064, 'actor_loss': -1.6352574305534362, 'time_step': 0.030956135272979735, 'td_error': 1623.925579123328, 'value_scale': 1.151145873722095, 'environment': -153.8000000000003} step=3000\n",
      "2023-09-02 23:26:47 [info     ] Model parameters are saved to d3rlpy_logs\\DiscreteSAC_20230902232523\\model_3000.d3\n",
      "stuck reward added\n",
      "stuck reward added\n",
      "stuck reward added\n",
      "stuck reward added\n",
      "2023-09-02 23:27:18 [info     ] DiscreteSAC_20230902232523: epoch=4 step=4000 epoch=4 metrics={'time_sample_batch': 0.0007431197166442871, 'time_algorithm_update': 0.028266251802444457, 'temp_loss': -0.001525040245569471, 'temp': 0.3471592949330807, 'critic_loss': 3.8306227891542948, 'actor_loss': -1.7723299639225005, 'time_step': 0.02908315396308899, 'td_error': 1601.4323489929598, 'value_scale': 1.249501667165102, 'environment': -153.8000000000003} step=4000\n",
      "2023-09-02 23:27:18 [info     ] Model parameters are saved to d3rlpy_logs\\DiscreteSAC_20230902232523\\model_4000.d3\n",
      "stuck reward added\n",
      "stuck reward added\n",
      "stuck reward added\n",
      "stuck reward added\n",
      "2023-09-02 23:27:48 [info     ] DiscreteSAC_20230902232523: epoch=5 step=5000 epoch=5 metrics={'time_sample_batch': 0.0007522602081298828, 'time_algorithm_update': 0.02875874590873718, 'temp_loss': 0.0011255859731643767, 'temp': 0.3574317506253719, 'critic_loss': 1.9858981832377613, 'actor_loss': -1.814498451590538, 'time_step': 0.029590803861618043, 'td_error': 1619.3938121990209, 'value_scale': 0.9839893310564578, 'environment': -153.8000000000003} step=5000\n",
      "2023-09-02 23:27:48 [info     ] Model parameters are saved to d3rlpy_logs\\DiscreteSAC_20230902232523\\model_5000.d3\n",
      "stuck reward added\n",
      "stuck reward added\n",
      "stuck reward added\n",
      "2023-09-02 23:28:21 [info     ] DiscreteSAC_20230902232523: epoch=6 step=6000 epoch=6 metrics={'time_sample_batch': 0.000769007682800293, 'time_algorithm_update': 0.03020509624481201, 'temp_loss': -5.503354151005624e-05, 'temp': 0.3308621990084648, 'critic_loss': 2.24474176991079, 'actor_loss': -1.6824267073869705, 'time_step': 0.03105988669395447, 'td_error': 1620.1459988755357, 'value_scale': 1.1350156324250358, 'environment': -149.50000000000028} step=6000\n",
      "2023-09-02 23:28:21 [info     ] Model parameters are saved to d3rlpy_logs\\DiscreteSAC_20230902232523\\model_6000.d3\n",
      "stuck reward added\n",
      "stuck reward added\n",
      "stuck reward added\n",
      "stuck reward added\n",
      "2023-09-02 23:28:55 [info     ] DiscreteSAC_20230902232523: epoch=7 step=7000 epoch=7 metrics={'time_sample_batch': 0.000822977066040039, 'time_algorithm_update': 0.0319343671798706, 'temp_loss': -8.979757204724592e-05, 'temp': 0.3378806530237198, 'critic_loss': 3.401960041137412, 'actor_loss': -1.7382329070568086, 'time_step': 0.03283811712265015, 'td_error': 1569.9998256271326, 'value_scale': 1.1149353831405115, 'environment': -168.40000000000043} step=7000\n",
      "2023-09-02 23:28:55 [info     ] Model parameters are saved to d3rlpy_logs\\DiscreteSAC_20230902232523\\model_7000.d3\n",
      "stuck reward added\n",
      "stuck reward added\n",
      "stuck reward added\n",
      "stuck reward added\n",
      "2023-09-02 23:29:29 [info     ] DiscreteSAC_20230902232523: epoch=8 step=8000 epoch=8 metrics={'time_sample_batch': 0.0007570769786834717, 'time_algorithm_update': 0.0315115647315979, 'temp_loss': -0.0006741824947216628, 'temp': 0.3683790938854217, 'critic_loss': 2.9146869470998644, 'actor_loss': -1.98610817193985, 'time_step': 0.032350391149520874, 'td_error': 1684.86580634482, 'value_scale': 1.9255673948846777, 'environment': -153.8000000000003} step=8000\n",
      "2023-09-02 23:29:29 [info     ] Model parameters are saved to d3rlpy_logs\\DiscreteSAC_20230902232523\\model_8000.d3\n",
      "stuck reward added\n",
      "stuck reward added\n",
      "stuck reward added\n",
      "stuck reward added\n",
      "2023-09-02 23:30:02 [info     ] DiscreteSAC_20230902232523: epoch=9 step=9000 epoch=9 metrics={'time_sample_batch': 0.0007499842643737793, 'time_algorithm_update': 0.031285224199295046, 'temp_loss': 0.0008184154288023819, 'temp': 0.3610049422681332, 'critic_loss': 2.705777012711391, 'actor_loss': -2.7115688592195513, 'time_step': 0.032107071161270144, 'td_error': 1611.301364762248, 'value_scale': 1.97911258163329, 'environment': -153.8000000000003} step=9000\n",
      "2023-09-02 23:30:02 [info     ] Model parameters are saved to d3rlpy_logs\\DiscreteSAC_20230902232523\\model_9000.d3\n",
      "stuck reward added\n",
      "stuck reward added\n",
      "stuck reward added\n",
      "stuck reward added\n",
      "2023-09-02 23:30:37 [info     ] DiscreteSAC_20230902232523: epoch=10 step=10000 epoch=10 metrics={'time_sample_batch': 0.000774071455001831, 'time_algorithm_update': 0.032691338777542114, 'temp_loss': 5.7119606483865936e-05, 'temp': 0.3486926561594009, 'critic_loss': 2.962549727316946, 'actor_loss': -2.645483828783035, 'time_step': 0.03355617904663086, 'td_error': 1564.8991213028844, 'value_scale': 1.996977707664268, 'environment': -153.8000000000003} step=10000\n",
      "2023-09-02 23:30:37 [info     ] Model parameters are saved to d3rlpy_logs\\DiscreteSAC_20230902232523\\model_10000.d3\n"
     ]
    }
   ],
   "source": [
    "dataset =getDataset()\n",
    "print(len(dataset.episodes))\n",
    "train_episodes, test_episodes = train_test_split(dataset.episodes, test_size=test_size)\n",
    "train_dataset = ReplayBuffer(InfiniteBuffer(), episodes=train_episodes)\n",
    "print(f\"{len(train_episodes)=}\")\n",
    "print(f\"{len(test_episodes)=}\")\n",
    "\n",
    "sac = d3rlpy.algos.DiscreteSACConfig( actor_learning_rate=learning_rate, \n",
    "                                     critic_learning_rate=learning_rate,\n",
    "                                     temp_learning_rate = learning_rate,\n",
    "                                     gamma=gamma,\n",
    "          batch_size=batch_size).create()\n",
    "\n",
    "# set environment in scorer function\n",
    "env_train = Env(visible=visible, level=str(level_paths.level)).env\n",
    "sac.build_with_dataset(train_dataset)\n",
    "env_evaluator  = EnvironmentEvaluator(env_train, n_trials=1)\n",
    "\n",
    "# evaluate algorithm on the environment\n",
    "name = 'SAC_marioai_%s_%s_%s_%s_%s' % (level_paths.level_name, gamma, learning_rate, target_update_interval, n_epochs)\n",
    "model_file = pathlib.Path(\"data\", \"models\", name + \".pt\")\n",
    "currentMax = -100000\n",
    "sac_max = copy.deepcopy(sac)\n",
    "\n",
    "fitter = sac.fitter(\n",
    "   dataset,\n",
    "   n_steps = n_steps_per_epoch * n_epochs,\n",
    "   n_steps_per_epoch=n_steps_per_epoch,\n",
    "  evaluators={'td_error': d3rlpy.metrics.TDErrorEvaluator(test_episodes),\n",
    "              'value_scale': d3rlpy.metrics.AverageValueEstimationEvaluator(test_episodes),\n",
    "              'environment': env_evaluator },\n",
    "  show_progress = False\n",
    ")\n",
    "dataset.trajectory_slicer\n",
    "for epoch, metrics in fitter:\n",
    "    if metrics.get(\"environment\") > currentMax:\n",
    "        currentMax = metrics.get(\"environment\")\n",
    "        sac_max.copy_q_function_from(sac)\n",
    "    else:\n",
    "        sac.copy_q_function_from(sac_max)\n",
    "    sac.save_model(model_file)\n",
    "    if currentMax > 100:\n",
    "        # For the purpose of the exercise the training will stop if the agent manages to complete the level\n",
    "        print(\"A suitable model has been found.\")\n",
    "        break"
   ]
  },
  {
   "cell_type": "markdown",
   "metadata": {},
   "source": [
    "### DiscreteBCQ"
   ]
  },
  {
   "cell_type": "code",
   "execution_count": 10,
   "metadata": {},
   "outputs": [
    {
     "name": "stdout",
     "output_type": "stream",
     "text": [
      "getDataset dataset: D:\\marioai\\exercise_offline_rl\\data\\datasets\\CliffsAndEnemiesLevel.h5\n",
      "getDataset dataset: D:\\marioai\\exercise_offline_rl\\data\\datasets\\ClimbLevel.h5\n",
      "getDataset dataset: D:\\marioai\\exercise_offline_rl\\data\\datasets\\RoughTerrainLevel.h5\n",
      "getDataset dataset: D:\\marioai\\exercise_offline_rl\\data\\datasets\\RoughTerrainLevel.random.h5\n",
      "25\n",
      "len(train_episodes)=22\n",
      "len(test_episodes)=3\n",
      "Running on port 62966\n",
      "observation_shape:  (800,)\n",
      "dataset_info.action_size:  13\n",
      "2023-09-02 23:30:45 [info     ] dataset info                   dataset_info=DatasetInfo(observation_signature=Signature(dtype=[dtype('int8')], shape=[(800,)]), action_signature=Signature(dtype=[dtype('int64')], shape=[(1,)]), reward_signature=Signature(dtype=[dtype('float64')], shape=[(1,)]), action_space=<ActionSpace.DISCRETE: 2>, action_size=13)\n",
      "2023-09-02 23:30:45 [info     ] Directory is created at d3rlpy_logs\\DiscreteBCQ_20230902233045\n",
      "2023-09-02 23:30:45 [warning  ] Skip building models since they're already built.\n",
      "2023-09-02 23:30:45 [info     ] Parameters                     params={'observation_shape': [800], 'action_size': 13, 'config': {'type': 'discrete_bcq', 'params': {'batch_size': 20, 'gamma': 0.99, 'observation_scaler': {'type': 'none', 'params': {}}, 'action_scaler': {'type': 'none', 'params': {}}, 'reward_scaler': {'type': 'none', 'params': {}}, 'learning_rate': 0.003, 'optim_factory': {'type': 'adam', 'params': {'betas': [0.9, 0.999], 'eps': 1e-08, 'weight_decay': 0, 'amsgrad': False}}, 'encoder_factory': {'type': 'default', 'params': {'activation': 'relu', 'use_batch_norm': False, 'dropout_rate': None}}, 'q_func_factory': {'type': 'mean', 'params': {'share_encoder': False}}, 'n_critics': 1, 'action_flexibility': 0.3, 'beta': 0.5, 'target_update_interval': 3000}}}\n",
      "stuck reward added\n",
      "stuck reward added\n",
      "stuck reward added\n",
      "stuck reward added\n",
      "stuck reward added\n",
      "stuck reward added\n",
      "stuck reward added\n",
      "stuck reward added\n",
      "stuck reward added\n",
      "stuck reward added\n",
      "stuck reward added\n",
      "stuck reward added\n",
      "stuck reward added\n",
      "stuck reward added\n",
      "stuck reward added\n",
      "stuck reward added\n",
      "stuck reward added\n",
      "stuck reward added\n",
      "stuck reward added\n",
      "stuck reward added\n",
      "stuck reward added\n",
      "stuck reward added\n",
      "stuck reward added\n",
      "stuck reward added\n",
      "stuck reward added\n",
      "stuck reward added\n",
      "stuck reward added\n",
      "stuck reward added\n",
      "stuck reward added\n",
      "stuck reward added\n",
      "stuck reward added\n",
      "stuck reward added\n",
      "stuck reward added\n",
      "stuck reward added\n",
      "stuck reward added\n",
      "stuck reward added\n",
      "stuck reward added\n",
      "stuck reward added\n",
      "stuck reward added\n",
      "stuck reward added\n",
      "2023-09-02 23:31:08 [info     ] DiscreteBCQ_20230902233045: epoch=1 step=1000 epoch=1 metrics={'time_sample_batch': 0.0007150483131408692, 'time_algorithm_update': 0.012060246229171753, 'loss': 3.845407592058182, 'time_step': 0.012827091217041016, 'td_error': 702.4478868073878, 'value_scale': 0.11905813697961572, 'environment': -153.80000000000027} step=1000\n",
      "2023-09-02 23:31:08 [info     ] Model parameters are saved to d3rlpy_logs\\DiscreteBCQ_20230902233045\\model_1000.d3\n",
      "stuck reward added\n",
      "stuck reward added\n",
      "stuck reward added\n",
      "stuck reward added\n",
      "stuck reward added\n",
      "stuck reward added\n",
      "stuck reward added\n",
      "stuck reward added\n",
      "stuck reward added\n",
      "stuck reward added\n",
      "stuck reward added\n",
      "stuck reward added\n",
      "stuck reward added\n",
      "stuck reward added\n",
      "stuck reward added\n",
      "stuck reward added\n",
      "stuck reward added\n",
      "stuck reward added\n",
      "stuck reward added\n",
      "stuck reward added\n",
      "stuck reward added\n",
      "stuck reward added\n",
      "stuck reward added\n",
      "stuck reward added\n",
      "stuck reward added\n",
      "stuck reward added\n",
      "stuck reward added\n",
      "stuck reward added\n",
      "stuck reward added\n",
      "stuck reward added\n",
      "stuck reward added\n",
      "stuck reward added\n",
      "stuck reward added\n",
      "stuck reward added\n",
      "stuck reward added\n",
      "stuck reward added\n",
      "stuck reward added\n",
      "stuck reward added\n",
      "stuck reward added\n",
      "stuck reward added\n",
      "2023-09-02 23:31:38 [info     ] DiscreteBCQ_20230902233045: epoch=2 step=2000 epoch=2 metrics={'time_sample_batch': 0.000793703556060791, 'time_algorithm_update': 0.01700767135620117, 'loss': 3.514297803044319, 'time_step': 0.017861197710037233, 'td_error': 702.6673215177925, 'value_scale': 0.12822818632440297, 'environment': -153.80000000000027} step=2000\n",
      "2023-09-02 23:31:38 [info     ] Model parameters are saved to d3rlpy_logs\\DiscreteBCQ_20230902233045\\model_2000.d3\n",
      "stuck reward added\n",
      "stuck reward added\n",
      "stuck reward added\n",
      "stuck reward added\n",
      "stuck reward added\n",
      "stuck reward added\n",
      "stuck reward added\n",
      "stuck reward added\n",
      "stuck reward added\n",
      "stuck reward added\n",
      "stuck reward added\n",
      "stuck reward added\n",
      "stuck reward added\n",
      "stuck reward added\n",
      "stuck reward added\n",
      "stuck reward added\n",
      "stuck reward added\n",
      "stuck reward added\n",
      "stuck reward added\n",
      "stuck reward added\n",
      "stuck reward added\n",
      "stuck reward added\n",
      "stuck reward added\n",
      "stuck reward added\n",
      "stuck reward added\n",
      "stuck reward added\n",
      "stuck reward added\n",
      "stuck reward added\n",
      "stuck reward added\n",
      "stuck reward added\n",
      "stuck reward added\n",
      "stuck reward added\n",
      "stuck reward added\n",
      "stuck reward added\n",
      "stuck reward added\n",
      "stuck reward added\n",
      "stuck reward added\n",
      "stuck reward added\n",
      "stuck reward added\n",
      "stuck reward added\n",
      "2023-09-02 23:32:08 [info     ] DiscreteBCQ_20230902233045: epoch=3 step=3000 epoch=3 metrics={'time_sample_batch': 0.000817652702331543, 'time_algorithm_update': 0.01823533844947815, 'loss': 3.535948734998703, 'time_step': 0.019103855371475218, 'td_error': 702.6156360031671, 'value_scale': 0.040760088737633274, 'environment': -153.7000000000003} step=3000\n",
      "2023-09-02 23:32:08 [info     ] Model parameters are saved to d3rlpy_logs\\DiscreteBCQ_20230902233045\\model_3000.d3\n",
      "stuck reward added\n",
      "stuck reward added\n",
      "stuck reward added\n",
      "stuck reward added\n",
      "stuck reward added\n",
      "stuck reward added\n",
      "stuck reward added\n",
      "stuck reward added\n",
      "stuck reward added\n",
      "stuck reward added\n",
      "stuck reward added\n",
      "stuck reward added\n",
      "stuck reward added\n",
      "stuck reward added\n",
      "stuck reward added\n",
      "stuck reward added\n",
      "stuck reward added\n",
      "stuck reward added\n",
      "stuck reward added\n",
      "stuck reward added\n",
      "stuck reward added\n",
      "stuck reward added\n",
      "stuck reward added\n",
      "stuck reward added\n",
      "stuck reward added\n",
      "stuck reward added\n",
      "stuck reward added\n",
      "stuck reward added\n",
      "stuck reward added\n",
      "stuck reward added\n",
      "2023-09-02 23:32:39 [info     ] DiscreteBCQ_20230902233045: epoch=4 step=4000 epoch=4 metrics={'time_sample_batch': 0.0007648229598999024, 'time_algorithm_update': 0.018261259794235228, 'loss': 3.730532831072807, 'time_step': 0.01908492159843445, 'td_error': 702.3246680639261, 'value_scale': 0.028425950002818067, 'environment': -127.20000000000027} step=4000\n",
      "2023-09-02 23:32:39 [info     ] Model parameters are saved to d3rlpy_logs\\DiscreteBCQ_20230902233045\\model_4000.d3\n"
     ]
    },
    {
     "ename": "KeyboardInterrupt",
     "evalue": "",
     "output_type": "error",
     "traceback": [
      "\u001b[1;31m---------------------------------------------------------------------------\u001b[0m",
      "\u001b[1;31mKeyboardInterrupt\u001b[0m                         Traceback (most recent call last)",
      "Cell \u001b[1;32mIn[10], line 33\u001b[0m\n\u001b[0;32m     23\u001b[0m fitter \u001b[39m=\u001b[39m bcq\u001b[39m.\u001b[39mfitter(\n\u001b[0;32m     24\u001b[0m    dataset,\n\u001b[0;32m     25\u001b[0m    n_steps \u001b[39m=\u001b[39m n_steps_per_epoch \u001b[39m*\u001b[39m n_epochs,\n\u001b[1;32m   (...)\u001b[0m\n\u001b[0;32m     30\u001b[0m   show_progress \u001b[39m=\u001b[39m \u001b[39mFalse\u001b[39;00m\n\u001b[0;32m     31\u001b[0m )\n\u001b[0;32m     32\u001b[0m dataset\u001b[39m.\u001b[39mtrajectory_slicer\n\u001b[1;32m---> 33\u001b[0m \u001b[39mfor\u001b[39;00m epoch, metrics \u001b[39min\u001b[39;00m fitter:\n\u001b[0;32m     34\u001b[0m     \u001b[39mif\u001b[39;00m metrics\u001b[39m.\u001b[39mget(\u001b[39m\"\u001b[39m\u001b[39menvironment\u001b[39m\u001b[39m\"\u001b[39m) \u001b[39m>\u001b[39m currentMax:\n\u001b[0;32m     35\u001b[0m         currentMax \u001b[39m=\u001b[39m metrics\u001b[39m.\u001b[39mget(\u001b[39m\"\u001b[39m\u001b[39menvironment\u001b[39m\u001b[39m\"\u001b[39m)\n",
      "File \u001b[1;32md:\\marioai\\marioenv\\lib\\site-packages\\d3rlpy\\algos\\qlearning\\base.py:522\u001b[0m, in \u001b[0;36mQLearningAlgoBase.fitter\u001b[1;34m(self, dataset, n_steps, n_steps_per_epoch, experiment_name, with_timestamp, logger_adapter, show_progress, save_interval, evaluators, callback, epoch_callback)\u001b[0m\n\u001b[0;32m    520\u001b[0m \u001b[39m# update parameters\u001b[39;00m\n\u001b[0;32m    521\u001b[0m \u001b[39mwith\u001b[39;00m logger\u001b[39m.\u001b[39mmeasure_time(\u001b[39m\"\u001b[39m\u001b[39malgorithm_update\u001b[39m\u001b[39m\"\u001b[39m):\n\u001b[1;32m--> 522\u001b[0m     loss \u001b[39m=\u001b[39m \u001b[39mself\u001b[39;49m\u001b[39m.\u001b[39;49mupdate(batch)\n\u001b[0;32m    524\u001b[0m \u001b[39m# record metrics\u001b[39;00m\n\u001b[0;32m    525\u001b[0m \u001b[39mfor\u001b[39;00m name, val \u001b[39min\u001b[39;00m loss\u001b[39m.\u001b[39mitems():\n",
      "File \u001b[1;32md:\\marioai\\marioenv\\lib\\site-packages\\d3rlpy\\algos\\qlearning\\base.py:822\u001b[0m, in \u001b[0;36mQLearningAlgoBase.update\u001b[1;34m(self, batch)\u001b[0m\n\u001b[0;32m    807\u001b[0m \u001b[39m\u001b[39m\u001b[39m\"\"\"Update parameters with mini-batch of data.\u001b[39;00m\n\u001b[0;32m    808\u001b[0m \n\u001b[0;32m    809\u001b[0m \u001b[39mArgs:\u001b[39;00m\n\u001b[1;32m   (...)\u001b[0m\n\u001b[0;32m    813\u001b[0m \u001b[39m    Dictionary of metrics.\u001b[39;00m\n\u001b[0;32m    814\u001b[0m \u001b[39m\"\"\"\u001b[39;00m\n\u001b[0;32m    815\u001b[0m torch_batch \u001b[39m=\u001b[39m TorchMiniBatch\u001b[39m.\u001b[39mfrom_batch(\n\u001b[0;32m    816\u001b[0m     batch\u001b[39m=\u001b[39mbatch,\n\u001b[0;32m    817\u001b[0m     device\u001b[39m=\u001b[39m\u001b[39mself\u001b[39m\u001b[39m.\u001b[39m_device,\n\u001b[1;32m   (...)\u001b[0m\n\u001b[0;32m    820\u001b[0m     reward_scaler\u001b[39m=\u001b[39m\u001b[39mself\u001b[39m\u001b[39m.\u001b[39m_config\u001b[39m.\u001b[39mreward_scaler,\n\u001b[0;32m    821\u001b[0m )\n\u001b[1;32m--> 822\u001b[0m loss \u001b[39m=\u001b[39m \u001b[39mself\u001b[39;49m\u001b[39m.\u001b[39;49minner_update(torch_batch)\n\u001b[0;32m    823\u001b[0m \u001b[39mself\u001b[39m\u001b[39m.\u001b[39m_grad_step \u001b[39m+\u001b[39m\u001b[39m=\u001b[39m \u001b[39m1\u001b[39m\n\u001b[0;32m    824\u001b[0m \u001b[39mreturn\u001b[39;00m loss\n",
      "File \u001b[1;32md:\\marioai\\marioenv\\lib\\site-packages\\d3rlpy\\algos\\qlearning\\bcq.py:380\u001b[0m, in \u001b[0;36mDiscreteBCQ.inner_update\u001b[1;34m(self, batch)\u001b[0m\n\u001b[0;32m    378\u001b[0m \u001b[39mdef\u001b[39;00m \u001b[39minner_update\u001b[39m(\u001b[39mself\u001b[39m, batch: TorchMiniBatch) \u001b[39m-\u001b[39m\u001b[39m>\u001b[39m Dict[\u001b[39mstr\u001b[39m, \u001b[39mfloat\u001b[39m]:\n\u001b[0;32m    379\u001b[0m     \u001b[39massert\u001b[39;00m \u001b[39mself\u001b[39m\u001b[39m.\u001b[39m_impl \u001b[39mis\u001b[39;00m \u001b[39mnot\u001b[39;00m \u001b[39mNone\u001b[39;00m, IMPL_NOT_INITIALIZED_ERROR\n\u001b[1;32m--> 380\u001b[0m     loss \u001b[39m=\u001b[39m \u001b[39mself\u001b[39;49m\u001b[39m.\u001b[39;49m_impl\u001b[39m.\u001b[39;49mupdate(batch)\n\u001b[0;32m    381\u001b[0m     \u001b[39mif\u001b[39;00m \u001b[39mself\u001b[39m\u001b[39m.\u001b[39m_grad_step \u001b[39m%\u001b[39m \u001b[39mself\u001b[39m\u001b[39m.\u001b[39m_config\u001b[39m.\u001b[39mtarget_update_interval \u001b[39m==\u001b[39m \u001b[39m0\u001b[39m:\n\u001b[0;32m    382\u001b[0m         \u001b[39mself\u001b[39m\u001b[39m.\u001b[39m_impl\u001b[39m.\u001b[39mupdate_target()\n",
      "File \u001b[1;32md:\\marioai\\marioenv\\lib\\site-packages\\d3rlpy\\torch_utility.py:300\u001b[0m, in \u001b[0;36mtrain_api.<locals>.wrapper\u001b[1;34m(self, *args, **kwargs)\u001b[0m\n\u001b[0;32m    298\u001b[0m \u001b[39mdef\u001b[39;00m \u001b[39mwrapper\u001b[39m(\u001b[39mself\u001b[39m: Any, \u001b[39m*\u001b[39margs: Any, \u001b[39m*\u001b[39m\u001b[39m*\u001b[39mkwargs: Any) \u001b[39m-\u001b[39m\u001b[39m>\u001b[39m Any:\n\u001b[0;32m    299\u001b[0m     set_train_mode(\u001b[39mself\u001b[39m)\n\u001b[1;32m--> 300\u001b[0m     \u001b[39mreturn\u001b[39;00m f(\u001b[39mself\u001b[39m, \u001b[39m*\u001b[39margs, \u001b[39m*\u001b[39m\u001b[39m*\u001b[39mkwargs)\n",
      "File \u001b[1;32md:\\marioai\\marioenv\\lib\\site-packages\\d3rlpy\\algos\\qlearning\\torch\\dqn_impl.py:48\u001b[0m, in \u001b[0;36mDQNImpl.update\u001b[1;34m(self, batch)\u001b[0m\n\u001b[0;32m     44\u001b[0m q_tpn \u001b[39m=\u001b[39m \u001b[39mself\u001b[39m\u001b[39m.\u001b[39mcompute_target(batch)\n\u001b[0;32m     46\u001b[0m loss \u001b[39m=\u001b[39m \u001b[39mself\u001b[39m\u001b[39m.\u001b[39mcompute_loss(batch, q_tpn)\n\u001b[1;32m---> 48\u001b[0m loss\u001b[39m.\u001b[39;49mbackward()\n\u001b[0;32m     49\u001b[0m \u001b[39mself\u001b[39m\u001b[39m.\u001b[39m_optim\u001b[39m.\u001b[39mstep()\n\u001b[0;32m     51\u001b[0m \u001b[39mreturn\u001b[39;00m \u001b[39mfloat\u001b[39m(loss\u001b[39m.\u001b[39mcpu()\u001b[39m.\u001b[39mdetach()\u001b[39m.\u001b[39mnumpy())\n",
      "File \u001b[1;32md:\\marioai\\marioenv\\lib\\site-packages\\torch\\_tensor.py:487\u001b[0m, in \u001b[0;36mTensor.backward\u001b[1;34m(self, gradient, retain_graph, create_graph, inputs)\u001b[0m\n\u001b[0;32m    477\u001b[0m \u001b[39mif\u001b[39;00m has_torch_function_unary(\u001b[39mself\u001b[39m):\n\u001b[0;32m    478\u001b[0m     \u001b[39mreturn\u001b[39;00m handle_torch_function(\n\u001b[0;32m    479\u001b[0m         Tensor\u001b[39m.\u001b[39mbackward,\n\u001b[0;32m    480\u001b[0m         (\u001b[39mself\u001b[39m,),\n\u001b[1;32m   (...)\u001b[0m\n\u001b[0;32m    485\u001b[0m         inputs\u001b[39m=\u001b[39minputs,\n\u001b[0;32m    486\u001b[0m     )\n\u001b[1;32m--> 487\u001b[0m torch\u001b[39m.\u001b[39;49mautograd\u001b[39m.\u001b[39;49mbackward(\n\u001b[0;32m    488\u001b[0m     \u001b[39mself\u001b[39;49m, gradient, retain_graph, create_graph, inputs\u001b[39m=\u001b[39;49minputs\n\u001b[0;32m    489\u001b[0m )\n",
      "File \u001b[1;32md:\\marioai\\marioenv\\lib\\site-packages\\torch\\autograd\\__init__.py:200\u001b[0m, in \u001b[0;36mbackward\u001b[1;34m(tensors, grad_tensors, retain_graph, create_graph, grad_variables, inputs)\u001b[0m\n\u001b[0;32m    195\u001b[0m     retain_graph \u001b[39m=\u001b[39m create_graph\n\u001b[0;32m    197\u001b[0m \u001b[39m# The reason we repeat same the comment below is that\u001b[39;00m\n\u001b[0;32m    198\u001b[0m \u001b[39m# some Python versions print out the first line of a multi-line function\u001b[39;00m\n\u001b[0;32m    199\u001b[0m \u001b[39m# calls in the traceback and some print out the last line\u001b[39;00m\n\u001b[1;32m--> 200\u001b[0m Variable\u001b[39m.\u001b[39;49m_execution_engine\u001b[39m.\u001b[39;49mrun_backward(  \u001b[39m# Calls into the C++ engine to run the backward pass\u001b[39;49;00m\n\u001b[0;32m    201\u001b[0m     tensors, grad_tensors_, retain_graph, create_graph, inputs,\n\u001b[0;32m    202\u001b[0m     allow_unreachable\u001b[39m=\u001b[39;49m\u001b[39mTrue\u001b[39;49;00m, accumulate_grad\u001b[39m=\u001b[39;49m\u001b[39mTrue\u001b[39;49;00m)\n",
      "\u001b[1;31mKeyboardInterrupt\u001b[0m: "
     ]
    }
   ],
   "source": [
    "dataset =getDataset()\n",
    "print(len(dataset.episodes))\n",
    "train_episodes, test_episodes = train_test_split(dataset.episodes, test_size=test_size)\n",
    "train_dataset = ReplayBuffer(InfiniteBuffer(), episodes=train_episodes)\n",
    "print(f\"{len(train_episodes)=}\")\n",
    "print(f\"{len(test_episodes)=}\")\n",
    "\n",
    "bcq = d3rlpy.algos.DiscreteBCQConfig(learning_rate=learning_rate, gamma=gamma,\n",
    "          target_update_interval=target_update_interval,\n",
    "          batch_size=batch_size).create()\n",
    "\n",
    "# set environment in scorer function\n",
    "env_train = Env(visible=visible, level=str(level_paths.level)).env\n",
    "bcq.build_with_dataset(train_dataset)\n",
    "env_evaluator  = EnvironmentEvaluator(env_train)\n",
    "\n",
    "# evaluate algorithm on the environment\n",
    "name = 'BCQ_marioai_%s_%s_%s_%s_%s' % (level_paths.level_name, gamma, learning_rate, target_update_interval, n_epochs)\n",
    "model_file = pathlib.Path(\"data\", \"models\", name + \".pt\")\n",
    "currentMax = -100000\n",
    "bcq_max = copy.deepcopy(bcq)\n",
    "\n",
    "fitter = bcq.fitter(\n",
    "   dataset,\n",
    "   n_steps = n_steps_per_epoch * n_epochs,\n",
    "   n_steps_per_epoch=n_steps_per_epoch,\n",
    "  evaluators={'td_error': d3rlpy.metrics.TDErrorEvaluator(test_episodes),\n",
    "              'value_scale': d3rlpy.metrics.AverageValueEstimationEvaluator(test_episodes),\n",
    "              'environment': env_evaluator },\n",
    "  show_progress = False\n",
    ")\n",
    "dataset.trajectory_slicer\n",
    "for epoch, metrics in fitter:\n",
    "    if metrics.get(\"environment\") > currentMax:\n",
    "        currentMax = metrics.get(\"environment\")\n",
    "        bcq_max.copy_q_function_from(bcq)\n",
    "    else:\n",
    "        bcq.copy_q_function_from(bcq_max)\n",
    "    bcq.save_model(model_file)\n",
    "    if currentMax > 100:\n",
    "        # For the purpose of the exercise the training will stop if the agent manages to complete the level\n",
    "        print(\"A suitable model has been found.\")\n",
    "        break"
   ]
  },
  {
   "cell_type": "markdown",
   "metadata": {},
   "source": [
    "### DiscreteCQL"
   ]
  },
  {
   "cell_type": "code",
   "execution_count": 11,
   "metadata": {},
   "outputs": [
    {
     "name": "stdout",
     "output_type": "stream",
     "text": [
      "getDataset dataset: D:\\marioai\\exercise_offline_rl\\data\\datasets\\CliffsAndEnemiesLevel.h5\n",
      "getDataset dataset: D:\\marioai\\exercise_offline_rl\\data\\datasets\\ClimbLevel.h5\n",
      "getDataset dataset: D:\\marioai\\exercise_offline_rl\\data\\datasets\\RoughTerrainLevel.h5\n",
      "getDataset dataset: D:\\marioai\\exercise_offline_rl\\data\\datasets\\RoughTerrainLevel.random.h5\n",
      "25\n",
      "len(train_episodes)=22\n",
      "len(test_episodes)=3\n",
      "Running on port 62993\n",
      "observation_shape:  (800,)\n",
      "dataset_info.action_size:  13\n",
      "2023-09-02 23:33:24 [info     ] dataset info                   dataset_info=DatasetInfo(observation_signature=Signature(dtype=[dtype('int8')], shape=[(800,)]), action_signature=Signature(dtype=[dtype('int64')], shape=[(1,)]), reward_signature=Signature(dtype=[dtype('float64')], shape=[(1,)]), action_space=<ActionSpace.DISCRETE: 2>, action_size=13)\n",
      "2023-09-02 23:33:24 [info     ] Directory is created at d3rlpy_logs\\DiscreteCQL_20230902233324\n",
      "2023-09-02 23:33:24 [warning  ] Skip building models since they're already built.\n",
      "2023-09-02 23:33:24 [info     ] Parameters                     params={'observation_shape': [800], 'action_size': 13, 'config': {'type': 'discrete_cql', 'params': {'batch_size': 20, 'gamma': 0.99, 'observation_scaler': {'type': 'none', 'params': {}}, 'action_scaler': {'type': 'none', 'params': {}}, 'reward_scaler': {'type': 'none', 'params': {}}, 'learning_rate': 0.003, 'optim_factory': {'type': 'adam', 'params': {'betas': [0.9, 0.999], 'eps': 1e-08, 'weight_decay': 0, 'amsgrad': False}}, 'encoder_factory': {'type': 'default', 'params': {'activation': 'relu', 'use_batch_norm': False, 'dropout_rate': None}}, 'q_func_factory': {'type': 'mean', 'params': {'share_encoder': False}}, 'n_critics': 1, 'target_update_interval': 3000, 'alpha': 1.0}}}\n",
      "stuck reward added\n",
      "stuck reward added\n",
      "stuck reward added\n",
      "stuck reward added\n",
      "stuck reward added\n",
      "stuck reward added\n",
      "stuck reward added\n",
      "stuck reward added\n",
      "stuck reward added\n",
      "stuck reward added\n",
      "stuck reward added\n",
      "stuck reward added\n",
      "stuck reward added\n",
      "stuck reward added\n",
      "stuck reward added\n",
      "stuck reward added\n"
     ]
    },
    {
     "ename": "KeyboardInterrupt",
     "evalue": "",
     "output_type": "error",
     "traceback": [
      "\u001b[1;31m---------------------------------------------------------------------------\u001b[0m",
      "\u001b[1;31mKeyboardInterrupt\u001b[0m                         Traceback (most recent call last)",
      "Cell \u001b[1;32mIn[11], line 33\u001b[0m\n\u001b[0;32m     23\u001b[0m fitter \u001b[39m=\u001b[39m cql\u001b[39m.\u001b[39mfitter(\n\u001b[0;32m     24\u001b[0m    dataset,\n\u001b[0;32m     25\u001b[0m    n_steps \u001b[39m=\u001b[39m n_steps_per_epoch \u001b[39m*\u001b[39m n_epochs,\n\u001b[1;32m   (...)\u001b[0m\n\u001b[0;32m     30\u001b[0m   show_progress \u001b[39m=\u001b[39m \u001b[39mFalse\u001b[39;00m\n\u001b[0;32m     31\u001b[0m )\n\u001b[0;32m     32\u001b[0m dataset\u001b[39m.\u001b[39mtrajectory_slicer\n\u001b[1;32m---> 33\u001b[0m \u001b[39mfor\u001b[39;00m epoch, metrics \u001b[39min\u001b[39;00m fitter:\n\u001b[0;32m     34\u001b[0m     \u001b[39mif\u001b[39;00m metrics\u001b[39m.\u001b[39mget(\u001b[39m\"\u001b[39m\u001b[39menvironment\u001b[39m\u001b[39m\"\u001b[39m) \u001b[39m>\u001b[39m currentMax:\n\u001b[0;32m     35\u001b[0m         currentMax \u001b[39m=\u001b[39m metrics\u001b[39m.\u001b[39mget(\u001b[39m\"\u001b[39m\u001b[39menvironment\u001b[39m\u001b[39m\"\u001b[39m)\n",
      "File \u001b[1;32md:\\marioai\\marioenv\\lib\\site-packages\\d3rlpy\\algos\\qlearning\\base.py:548\u001b[0m, in \u001b[0;36mQLearningAlgoBase.fitter\u001b[1;34m(self, dataset, n_steps, n_steps_per_epoch, experiment_name, with_timestamp, logger_adapter, show_progress, save_interval, evaluators, callback, epoch_callback)\u001b[0m\n\u001b[0;32m    546\u001b[0m \u001b[39mif\u001b[39;00m evaluators:\n\u001b[0;32m    547\u001b[0m     \u001b[39mfor\u001b[39;00m name, evaluator \u001b[39min\u001b[39;00m evaluators\u001b[39m.\u001b[39mitems():\n\u001b[1;32m--> 548\u001b[0m         test_score \u001b[39m=\u001b[39m evaluator(\u001b[39mself\u001b[39;49m, dataset)\n\u001b[0;32m    549\u001b[0m         logger\u001b[39m.\u001b[39madd_metric(name, test_score)\n\u001b[0;32m    551\u001b[0m \u001b[39m# save metrics\u001b[39;00m\n",
      "File \u001b[1;32md:\\marioai\\marioenv\\lib\\site-packages\\d3rlpy\\metrics\\evaluators.py:537\u001b[0m, in \u001b[0;36mEnvironmentEvaluator.__call__\u001b[1;34m(self, algo, dataset)\u001b[0m\n\u001b[0;32m    534\u001b[0m \u001b[39mdef\u001b[39;00m \u001b[39m__call__\u001b[39m(\n\u001b[0;32m    535\u001b[0m     \u001b[39mself\u001b[39m, algo: QLearningAlgoProtocol, dataset: ReplayBuffer\n\u001b[0;32m    536\u001b[0m ) \u001b[39m-\u001b[39m\u001b[39m>\u001b[39m \u001b[39mfloat\u001b[39m:\n\u001b[1;32m--> 537\u001b[0m     \u001b[39mreturn\u001b[39;00m evaluate_qlearning_with_environment(\n\u001b[0;32m    538\u001b[0m         algo\u001b[39m=\u001b[39;49malgo,\n\u001b[0;32m    539\u001b[0m         env\u001b[39m=\u001b[39;49m\u001b[39mself\u001b[39;49m\u001b[39m.\u001b[39;49m_env,\n\u001b[0;32m    540\u001b[0m         n_trials\u001b[39m=\u001b[39;49m\u001b[39mself\u001b[39;49m\u001b[39m.\u001b[39;49m_n_trials,\n\u001b[0;32m    541\u001b[0m         epsilon\u001b[39m=\u001b[39;49m\u001b[39mself\u001b[39;49m\u001b[39m.\u001b[39;49m_epsilon,\n\u001b[0;32m    542\u001b[0m     )\n",
      "File \u001b[1;32md:\\marioai\\marioenv\\lib\\site-packages\\d3rlpy\\metrics\\utility.py:55\u001b[0m, in \u001b[0;36mevaluate_qlearning_with_environment\u001b[1;34m(algo, env, n_trials, epsilon)\u001b[0m\n\u001b[0;32m     53\u001b[0m     action \u001b[39m=\u001b[39m env\u001b[39m.\u001b[39maction_space\u001b[39m.\u001b[39msample()\n\u001b[0;32m     54\u001b[0m \u001b[39melse\u001b[39;00m:\n\u001b[1;32m---> 55\u001b[0m     action \u001b[39m=\u001b[39m algo\u001b[39m.\u001b[39;49mpredict(np\u001b[39m.\u001b[39;49mexpand_dims(observation, axis\u001b[39m=\u001b[39;49m\u001b[39m0\u001b[39;49m))[\u001b[39m0\u001b[39m]\n\u001b[0;32m     57\u001b[0m observation, reward, done, truncated, _ \u001b[39m=\u001b[39m env\u001b[39m.\u001b[39mstep(action)\n\u001b[0;32m     58\u001b[0m episode_reward \u001b[39m+\u001b[39m\u001b[39m=\u001b[39m reward\n",
      "File \u001b[1;32md:\\marioai\\marioenv\\lib\\site-packages\\d3rlpy\\algos\\qlearning\\base.py:269\u001b[0m, in \u001b[0;36mQLearningAlgoBase.predict\u001b[1;34m(self, x)\u001b[0m\n\u001b[0;32m    266\u001b[0m \u001b[39mif\u001b[39;00m \u001b[39mself\u001b[39m\u001b[39m.\u001b[39m_config\u001b[39m.\u001b[39mobservation_scaler:\n\u001b[0;32m    267\u001b[0m     torch_x \u001b[39m=\u001b[39m \u001b[39mself\u001b[39m\u001b[39m.\u001b[39m_config\u001b[39m.\u001b[39mobservation_scaler\u001b[39m.\u001b[39mtransform(torch_x)\n\u001b[1;32m--> 269\u001b[0m action \u001b[39m=\u001b[39m \u001b[39mself\u001b[39;49m\u001b[39m.\u001b[39;49m_impl\u001b[39m.\u001b[39;49mpredict_best_action(torch_x)\n\u001b[0;32m    271\u001b[0m \u001b[39mif\u001b[39;00m \u001b[39mself\u001b[39m\u001b[39m.\u001b[39m_config\u001b[39m.\u001b[39maction_scaler:\n\u001b[0;32m    272\u001b[0m     action \u001b[39m=\u001b[39m \u001b[39mself\u001b[39m\u001b[39m.\u001b[39m_config\u001b[39m.\u001b[39maction_scaler\u001b[39m.\u001b[39mreverse_transform(action)\n",
      "File \u001b[1;32md:\\marioai\\marioenv\\lib\\site-packages\\d3rlpy\\torch_utility.py:292\u001b[0m, in \u001b[0;36meval_api.<locals>.wrapper\u001b[1;34m(self, *args, **kwargs)\u001b[0m\n\u001b[0;32m    290\u001b[0m \u001b[39mdef\u001b[39;00m \u001b[39mwrapper\u001b[39m(\u001b[39mself\u001b[39m: Any, \u001b[39m*\u001b[39margs: Any, \u001b[39m*\u001b[39m\u001b[39m*\u001b[39mkwargs: Any) \u001b[39m-\u001b[39m\u001b[39m>\u001b[39m Any:\n\u001b[0;32m    291\u001b[0m     set_eval_mode(\u001b[39mself\u001b[39m)\n\u001b[1;32m--> 292\u001b[0m     \u001b[39mreturn\u001b[39;00m f(\u001b[39mself\u001b[39m, \u001b[39m*\u001b[39margs, \u001b[39m*\u001b[39m\u001b[39m*\u001b[39mkwargs)\n",
      "File \u001b[1;32md:\\marioai\\marioenv\\lib\\site-packages\\d3rlpy\\algos\\qlearning\\base.py:71\u001b[0m, in \u001b[0;36mQLearningAlgoImplBase.predict_best_action\u001b[1;34m(self, x)\u001b[0m\n\u001b[0;32m     69\u001b[0m \u001b[39m@eval_api\u001b[39m\n\u001b[0;32m     70\u001b[0m \u001b[39mdef\u001b[39;00m \u001b[39mpredict_best_action\u001b[39m(\u001b[39mself\u001b[39m, x: torch\u001b[39m.\u001b[39mTensor) \u001b[39m-\u001b[39m\u001b[39m>\u001b[39m torch\u001b[39m.\u001b[39mTensor:\n\u001b[1;32m---> 71\u001b[0m     \u001b[39mreturn\u001b[39;00m \u001b[39mself\u001b[39;49m\u001b[39m.\u001b[39;49minner_predict_best_action(x)\n",
      "File \u001b[1;32md:\\marioai\\marioenv\\lib\\site-packages\\d3rlpy\\algos\\qlearning\\torch\\dqn_impl.py:78\u001b[0m, in \u001b[0;36mDQNImpl.inner_predict_best_action\u001b[1;34m(self, x)\u001b[0m\n\u001b[0;32m     77\u001b[0m \u001b[39mdef\u001b[39;00m \u001b[39minner_predict_best_action\u001b[39m(\u001b[39mself\u001b[39m, x: torch\u001b[39m.\u001b[39mTensor) \u001b[39m-\u001b[39m\u001b[39m>\u001b[39m torch\u001b[39m.\u001b[39mTensor:\n\u001b[1;32m---> 78\u001b[0m     \u001b[39mreturn\u001b[39;00m \u001b[39mself\u001b[39;49m\u001b[39m.\u001b[39;49m_q_func(x)\u001b[39m.\u001b[39margmax(dim\u001b[39m=\u001b[39m\u001b[39m1\u001b[39m)\n",
      "File \u001b[1;32md:\\marioai\\marioenv\\lib\\site-packages\\d3rlpy\\models\\torch\\q_functions\\ensemble_q_function.py:159\u001b[0m, in \u001b[0;36mEnsembleDiscreteQFunction.__call__\u001b[1;34m(self, x, reduction)\u001b[0m\n\u001b[0;32m    156\u001b[0m \u001b[39mdef\u001b[39;00m \u001b[39m__call__\u001b[39m(\n\u001b[0;32m    157\u001b[0m     \u001b[39mself\u001b[39m, x: torch\u001b[39m.\u001b[39mTensor, reduction: \u001b[39mstr\u001b[39m \u001b[39m=\u001b[39m \u001b[39m\"\u001b[39m\u001b[39mmean\u001b[39m\u001b[39m\"\u001b[39m\n\u001b[0;32m    158\u001b[0m ) \u001b[39m-\u001b[39m\u001b[39m>\u001b[39m torch\u001b[39m.\u001b[39mTensor:\n\u001b[1;32m--> 159\u001b[0m     \u001b[39mreturn\u001b[39;00m cast(torch\u001b[39m.\u001b[39mTensor, \u001b[39msuper\u001b[39;49m()\u001b[39m.\u001b[39;49m\u001b[39m__call__\u001b[39;49m(x, reduction))\n",
      "File \u001b[1;32md:\\marioai\\marioenv\\lib\\site-packages\\torch\\nn\\modules\\module.py:1501\u001b[0m, in \u001b[0;36mModule._call_impl\u001b[1;34m(self, *args, **kwargs)\u001b[0m\n\u001b[0;32m   1496\u001b[0m \u001b[39m# If we don't have any hooks, we want to skip the rest of the logic in\u001b[39;00m\n\u001b[0;32m   1497\u001b[0m \u001b[39m# this function, and just call forward.\u001b[39;00m\n\u001b[0;32m   1498\u001b[0m \u001b[39mif\u001b[39;00m \u001b[39mnot\u001b[39;00m (\u001b[39mself\u001b[39m\u001b[39m.\u001b[39m_backward_hooks \u001b[39mor\u001b[39;00m \u001b[39mself\u001b[39m\u001b[39m.\u001b[39m_backward_pre_hooks \u001b[39mor\u001b[39;00m \u001b[39mself\u001b[39m\u001b[39m.\u001b[39m_forward_hooks \u001b[39mor\u001b[39;00m \u001b[39mself\u001b[39m\u001b[39m.\u001b[39m_forward_pre_hooks\n\u001b[0;32m   1499\u001b[0m         \u001b[39mor\u001b[39;00m _global_backward_pre_hooks \u001b[39mor\u001b[39;00m _global_backward_hooks\n\u001b[0;32m   1500\u001b[0m         \u001b[39mor\u001b[39;00m _global_forward_hooks \u001b[39mor\u001b[39;00m _global_forward_pre_hooks):\n\u001b[1;32m-> 1501\u001b[0m     \u001b[39mreturn\u001b[39;00m forward_call(\u001b[39m*\u001b[39margs, \u001b[39m*\u001b[39m\u001b[39m*\u001b[39mkwargs)\n\u001b[0;32m   1502\u001b[0m \u001b[39m# Do not call functions when jit is used\u001b[39;00m\n\u001b[0;32m   1503\u001b[0m full_backward_hooks, non_full_backward_hooks \u001b[39m=\u001b[39m [], []\n",
      "File \u001b[1;32md:\\marioai\\marioenv\\lib\\site-packages\\d3rlpy\\models\\torch\\q_functions\\ensemble_q_function.py:154\u001b[0m, in \u001b[0;36mEnsembleDiscreteQFunction.forward\u001b[1;34m(self, x, reduction)\u001b[0m\n\u001b[0;32m    152\u001b[0m \u001b[39mfor\u001b[39;00m q_func \u001b[39min\u001b[39;00m \u001b[39mself\u001b[39m\u001b[39m.\u001b[39m_q_funcs:\n\u001b[0;32m    153\u001b[0m     values\u001b[39m.\u001b[39mappend(q_func(x)\u001b[39m.\u001b[39mview(\u001b[39m1\u001b[39m, x\u001b[39m.\u001b[39mshape[\u001b[39m0\u001b[39m], \u001b[39mself\u001b[39m\u001b[39m.\u001b[39m_action_size))\n\u001b[1;32m--> 154\u001b[0m \u001b[39mreturn\u001b[39;00m _reduce_ensemble(torch\u001b[39m.\u001b[39;49mcat(values, dim\u001b[39m=\u001b[39;49m\u001b[39m0\u001b[39;49m), reduction)\n",
      "File \u001b[1;32md:\\marioai\\marioenv\\lib\\site-packages\\d3rlpy\\models\\torch\\q_functions\\ensemble_q_function.py:25\u001b[0m, in \u001b[0;36m_reduce_ensemble\u001b[1;34m(y, reduction, dim, lam)\u001b[0m\n\u001b[0;32m     23\u001b[0m     \u001b[39mreturn\u001b[39;00m y\u001b[39m.\u001b[39mmax(dim\u001b[39m=\u001b[39mdim)\u001b[39m.\u001b[39mvalues\n\u001b[0;32m     24\u001b[0m \u001b[39melif\u001b[39;00m reduction \u001b[39m==\u001b[39m \u001b[39m\"\u001b[39m\u001b[39mmean\u001b[39m\u001b[39m\"\u001b[39m:\n\u001b[1;32m---> 25\u001b[0m     \u001b[39mreturn\u001b[39;00m y\u001b[39m.\u001b[39;49mmean(dim\u001b[39m=\u001b[39;49mdim)\n\u001b[0;32m     26\u001b[0m \u001b[39melif\u001b[39;00m reduction \u001b[39m==\u001b[39m \u001b[39m\"\u001b[39m\u001b[39mnone\u001b[39m\u001b[39m\"\u001b[39m:\n\u001b[0;32m     27\u001b[0m     \u001b[39mreturn\u001b[39;00m y\n",
      "\u001b[1;31mKeyboardInterrupt\u001b[0m: "
     ]
    }
   ],
   "source": [
    "dataset =getDataset()\n",
    "print(len(dataset.episodes))\n",
    "train_episodes, test_episodes = train_test_split(dataset.episodes, test_size=test_size)\n",
    "train_dataset = ReplayBuffer(InfiniteBuffer(), episodes=train_episodes)\n",
    "print(f\"{len(train_episodes)=}\")\n",
    "print(f\"{len(test_episodes)=}\")\n",
    "\n",
    "cql = d3rlpy.algos.DiscreteCQLConfig(learning_rate=learning_rate, gamma=gamma,\n",
    "          target_update_interval=target_update_interval,\n",
    "          batch_size=batch_size).create()\n",
    "\n",
    "# set environment in scorer function\n",
    "env_train = Env(visible=visible, level=str(level_paths.level)).env\n",
    "cql.build_with_dataset(train_dataset)\n",
    "env_evaluator  = EnvironmentEvaluator(env_train)\n",
    "\n",
    "# evaluate algorithm on the environment\n",
    "name = 'CQL_marioai_%s_%s_%s_%s_%s' % (level_paths.level_name, gamma, learning_rate, target_update_interval, n_epochs)\n",
    "model_file = pathlib.Path(\"data\", \"models\", name + \".pt\")\n",
    "currentMax = -100000\n",
    "cql_max = copy.deepcopy(cql)\n",
    "\n",
    "fitter = cql.fitter(\n",
    "   dataset,\n",
    "   n_steps = n_steps_per_epoch * n_epochs,\n",
    "   n_steps_per_epoch=n_steps_per_epoch,\n",
    "  evaluators={'td_error': d3rlpy.metrics.TDErrorEvaluator(test_episodes),\n",
    "              'value_scale': d3rlpy.metrics.AverageValueEstimationEvaluator(test_episodes),\n",
    "              'environment': env_evaluator },\n",
    "  show_progress = False\n",
    ")\n",
    "dataset.trajectory_slicer\n",
    "for epoch, metrics in fitter:\n",
    "    if metrics.get(\"environment\") > currentMax:\n",
    "        currentMax = metrics.get(\"environment\")\n",
    "        cql_max.copy_q_function_from(cql)\n",
    "    else:\n",
    "        cql.copy_q_function_from(cql_max)\n",
    "    cql.save_model(model_file)\n",
    "    if currentMax > 100:\n",
    "        # For the purpose of the exercise the training will stop if the agent manages to complete the level\n",
    "        print(\"A suitable model has been found.\")\n",
    "        break"
   ]
  },
  {
   "cell_type": "code",
   "execution_count": 13,
   "metadata": {},
   "outputs": [
    {
     "name": "stdout",
     "output_type": "stream",
     "text": [
      "getDataset dataset: D:\\marioai\\exercise_offline_rl\\data\\datasets\\CliffsAndEnemiesLevel.h5\n",
      "getDataset dataset: D:\\marioai\\exercise_offline_rl\\data\\datasets\\ClimbLevel.h5\n",
      "getDataset dataset: D:\\marioai\\exercise_offline_rl\\data\\datasets\\RoughTerrainLevel.h5\n",
      "getDataset dataset: D:\\marioai\\exercise_offline_rl\\data\\datasets\\RoughTerrainLevel.random.h5\n",
      "<d3rlpy.algos.qlearning.dqn.DQN object at 0x000001CD2B5CA260>\n",
      "Running on port 63018\n",
      "2023-09-02 23:34:46 [info     ] dataset info                   dataset_info=DatasetInfo(observation_signature=Signature(dtype=[dtype('int8')], shape=[(800,)]), action_signature=Signature(dtype=[dtype('int64')], shape=[(1,)]), reward_signature=Signature(dtype=[dtype('float64')], shape=[(1,)]), action_space=<ActionSpace.DISCRETE: 2>, action_size=13)\n",
      "2023-09-02 23:34:46 [info     ] Directory is created at d3rlpy_logs\\DiscreteFQE_20230902233446\n",
      "2023-09-02 23:34:46 [debug    ] Building models...\n",
      "2023-09-02 23:34:46 [debug    ] Models have been built.\n",
      "2023-09-02 23:34:46 [info     ] Parameters                     params={'observation_shape': [800], 'action_size': 13, 'config': {'type': 'fqe', 'params': {'batch_size': 100, 'gamma': 0.99, 'observation_scaler': {'type': 'none', 'params': {}}, 'action_scaler': {'type': 'none', 'params': {}}, 'reward_scaler': {'type': 'none', 'params': {}}, 'learning_rate': 0.0001, 'optim_factory': {'type': 'adam', 'params': {'betas': [0.9, 0.999], 'eps': 1e-08, 'weight_decay': 0, 'amsgrad': False}}, 'encoder_factory': {'type': 'default', 'params': {'activation': 'relu', 'use_batch_norm': False, 'dropout_rate': None}}, 'q_func_factory': {'type': 'mean', 'params': {'share_encoder': False}}, 'n_critics': 1, 'target_update_interval': 100}}}\n"
     ]
    },
    {
     "name": "stderr",
     "output_type": "stream",
     "text": [
      "d:\\marioai\\marioenv\\lib\\site-packages\\gym\\utils\\passive_env_checker.py:233: DeprecationWarning: `np.bool8` is a deprecated alias for `np.bool_`.  (Deprecated NumPy 1.24)\n",
      "  if not isinstance(terminated, (bool, np.bool8)):\n"
     ]
    },
    {
     "name": "stdout",
     "output_type": "stream",
     "text": [
      "stuck reward added\n",
      "stuck reward added\n",
      "stuck reward added\n",
      "stuck reward added\n",
      "stuck reward added\n",
      "stuck reward added\n",
      "stuck reward added\n",
      "stuck reward added\n",
      "stuck reward added\n",
      "stuck reward added\n",
      "stuck reward added\n",
      "stuck reward added\n",
      "stuck reward added\n",
      "stuck reward added\n",
      "stuck reward added\n",
      "stuck reward added\n",
      "stuck reward added\n",
      "stuck reward added\n",
      "stuck reward added\n",
      "stuck reward added\n",
      "stuck reward added\n",
      "stuck reward added\n",
      "stuck reward added\n",
      "stuck reward added\n",
      "stuck reward added\n",
      "stuck reward added\n",
      "stuck reward added\n",
      "stuck reward added\n",
      "stuck reward added\n",
      "stuck reward added\n",
      "stuck reward added\n",
      "stuck reward added\n",
      "stuck reward added\n",
      "stuck reward added\n",
      "stuck reward added\n",
      "stuck reward added\n",
      "stuck reward added\n",
      "stuck reward added\n",
      "stuck reward added\n",
      "stuck reward added\n",
      "2023-09-02 23:35:04 [info     ] DiscreteFQE_20230902233446: epoch=1 step=1000 epoch=1 metrics={'time_sample_batch': 0.0023077170848846435, 'time_algorithm_update': 0.008629133701324463, 'loss': 1.2297775308676064, 'time_step': 0.010989603519439697, 'init_value': 0.24793918430805206, 'soft_opc': 0.14719474829016732, 'average_value': 0.665362008343644, 'environment': -153.80000000000027} step=1000\n",
      "2023-09-02 23:35:04 [info     ] Model parameters are saved to d3rlpy_logs\\DiscreteFQE_20230902233446\\model_1000.d3\n",
      "stuck reward added\n",
      "stuck reward added\n",
      "stuck reward added\n",
      "stuck reward added\n",
      "stuck reward added\n",
      "stuck reward added\n",
      "stuck reward added\n",
      "stuck reward added\n",
      "stuck reward added\n",
      "stuck reward added\n",
      "stuck reward added\n",
      "stuck reward added\n",
      "stuck reward added\n",
      "stuck reward added\n",
      "stuck reward added\n",
      "stuck reward added\n",
      "stuck reward added\n",
      "stuck reward added\n",
      "stuck reward added\n",
      "stuck reward added\n",
      "stuck reward added\n",
      "stuck reward added\n",
      "stuck reward added\n",
      "stuck reward added\n",
      "stuck reward added\n",
      "stuck reward added\n",
      "stuck reward added\n",
      "stuck reward added\n",
      "stuck reward added\n",
      "stuck reward added\n",
      "stuck reward added\n",
      "stuck reward added\n",
      "stuck reward added\n",
      "stuck reward added\n",
      "stuck reward added\n",
      "stuck reward added\n",
      "stuck reward added\n",
      "stuck reward added\n",
      "stuck reward added\n",
      "stuck reward added\n",
      "2023-09-02 23:35:24 [info     ] DiscreteFQE_20230902233446: epoch=2 step=2000 epoch=2 metrics={'time_sample_batch': 0.002653113842010498, 'time_algorithm_update': 0.009250131607055664, 'loss': 1.4549310413375496, 'time_step': 0.011958027601242066, 'init_value': 0.637856125831604, 'soft_opc': 0.2895586255910976, 'average_value': 1.2975431103777808, 'environment': -153.80000000000027} step=2000\n",
      "2023-09-02 23:35:24 [info     ] Model parameters are saved to d3rlpy_logs\\DiscreteFQE_20230902233446\\model_2000.d3\n"
     ]
    },
    {
     "ename": "KeyboardInterrupt",
     "evalue": "",
     "output_type": "error",
     "traceback": [
      "\u001b[1;31m---------------------------------------------------------------------------\u001b[0m",
      "\u001b[1;31mKeyboardInterrupt\u001b[0m                         Traceback (most recent call last)",
      "Cell \u001b[1;32mIn[13], line 41\u001b[0m\n\u001b[0;32m     39\u001b[0m average_value \u001b[39m=\u001b[39m []\n\u001b[0;32m     40\u001b[0m environment \u001b[39m=\u001b[39m []\n\u001b[1;32m---> 41\u001b[0m \u001b[39mfor\u001b[39;00m epoch, metrics \u001b[39min\u001b[39;00m fitter:\n\u001b[0;32m     42\u001b[0m     init_values\u001b[39m.\u001b[39mappend(metrics[\u001b[39m'\u001b[39m\u001b[39minit_value\u001b[39m\u001b[39m'\u001b[39m])\n\u001b[0;32m     43\u001b[0m     soft_opcs\u001b[39m.\u001b[39mappend(metrics[\u001b[39m'\u001b[39m\u001b[39msoft_opc\u001b[39m\u001b[39m'\u001b[39m])\n",
      "File \u001b[1;32md:\\marioai\\marioenv\\lib\\site-packages\\d3rlpy\\algos\\qlearning\\base.py:522\u001b[0m, in \u001b[0;36mQLearningAlgoBase.fitter\u001b[1;34m(self, dataset, n_steps, n_steps_per_epoch, experiment_name, with_timestamp, logger_adapter, show_progress, save_interval, evaluators, callback, epoch_callback)\u001b[0m\n\u001b[0;32m    520\u001b[0m \u001b[39m# update parameters\u001b[39;00m\n\u001b[0;32m    521\u001b[0m \u001b[39mwith\u001b[39;00m logger\u001b[39m.\u001b[39mmeasure_time(\u001b[39m\"\u001b[39m\u001b[39malgorithm_update\u001b[39m\u001b[39m\"\u001b[39m):\n\u001b[1;32m--> 522\u001b[0m     loss \u001b[39m=\u001b[39m \u001b[39mself\u001b[39;49m\u001b[39m.\u001b[39;49mupdate(batch)\n\u001b[0;32m    524\u001b[0m \u001b[39m# record metrics\u001b[39;00m\n\u001b[0;32m    525\u001b[0m \u001b[39mfor\u001b[39;00m name, val \u001b[39min\u001b[39;00m loss\u001b[39m.\u001b[39mitems():\n",
      "File \u001b[1;32md:\\marioai\\marioenv\\lib\\site-packages\\d3rlpy\\algos\\qlearning\\base.py:815\u001b[0m, in \u001b[0;36mQLearningAlgoBase.update\u001b[1;34m(self, batch)\u001b[0m\n\u001b[0;32m    806\u001b[0m \u001b[39mdef\u001b[39;00m \u001b[39mupdate\u001b[39m(\u001b[39mself\u001b[39m, batch: TransitionMiniBatch) \u001b[39m-\u001b[39m\u001b[39m>\u001b[39m Dict[\u001b[39mstr\u001b[39m, \u001b[39mfloat\u001b[39m]:\n\u001b[0;32m    807\u001b[0m \u001b[39m    \u001b[39m\u001b[39m\"\"\"Update parameters with mini-batch of data.\u001b[39;00m\n\u001b[0;32m    808\u001b[0m \n\u001b[0;32m    809\u001b[0m \u001b[39m    Args:\u001b[39;00m\n\u001b[1;32m   (...)\u001b[0m\n\u001b[0;32m    813\u001b[0m \u001b[39m        Dictionary of metrics.\u001b[39;00m\n\u001b[0;32m    814\u001b[0m \u001b[39m    \"\"\"\u001b[39;00m\n\u001b[1;32m--> 815\u001b[0m     torch_batch \u001b[39m=\u001b[39m TorchMiniBatch\u001b[39m.\u001b[39;49mfrom_batch(\n\u001b[0;32m    816\u001b[0m         batch\u001b[39m=\u001b[39;49mbatch,\n\u001b[0;32m    817\u001b[0m         device\u001b[39m=\u001b[39;49m\u001b[39mself\u001b[39;49m\u001b[39m.\u001b[39;49m_device,\n\u001b[0;32m    818\u001b[0m         observation_scaler\u001b[39m=\u001b[39;49m\u001b[39mself\u001b[39;49m\u001b[39m.\u001b[39;49m_config\u001b[39m.\u001b[39;49mobservation_scaler,\n\u001b[0;32m    819\u001b[0m         action_scaler\u001b[39m=\u001b[39;49m\u001b[39mself\u001b[39;49m\u001b[39m.\u001b[39;49m_config\u001b[39m.\u001b[39;49maction_scaler,\n\u001b[0;32m    820\u001b[0m         reward_scaler\u001b[39m=\u001b[39;49m\u001b[39mself\u001b[39;49m\u001b[39m.\u001b[39;49m_config\u001b[39m.\u001b[39;49mreward_scaler,\n\u001b[0;32m    821\u001b[0m     )\n\u001b[0;32m    822\u001b[0m     loss \u001b[39m=\u001b[39m \u001b[39mself\u001b[39m\u001b[39m.\u001b[39minner_update(torch_batch)\n\u001b[0;32m    823\u001b[0m     \u001b[39mself\u001b[39m\u001b[39m.\u001b[39m_grad_step \u001b[39m+\u001b[39m\u001b[39m=\u001b[39m \u001b[39m1\u001b[39m\n",
      "File \u001b[1;32md:\\marioai\\marioenv\\lib\\site-packages\\d3rlpy\\torch_utility.py:202\u001b[0m, in \u001b[0;36mTorchMiniBatch.from_batch\u001b[1;34m(cls, batch, device, observation_scaler, action_scaler, reward_scaler)\u001b[0m\n\u001b[0;32m    198\u001b[0m rewards \u001b[39m=\u001b[39m convert_to_torch(batch\u001b[39m.\u001b[39mrewards, device)\n\u001b[0;32m    199\u001b[0m next_observations \u001b[39m=\u001b[39m convert_to_torch_recursively(\n\u001b[0;32m    200\u001b[0m     batch\u001b[39m.\u001b[39mnext_observations, device\n\u001b[0;32m    201\u001b[0m )\n\u001b[1;32m--> 202\u001b[0m terminals \u001b[39m=\u001b[39m convert_to_torch(batch\u001b[39m.\u001b[39;49mterminals, device)\n\u001b[0;32m    203\u001b[0m intervals \u001b[39m=\u001b[39m convert_to_torch(batch\u001b[39m.\u001b[39mintervals, device)\n\u001b[0;32m    205\u001b[0m \u001b[39m# TODO: support tuple observation\u001b[39;00m\n",
      "File \u001b[1;32md:\\marioai\\marioenv\\lib\\site-packages\\d3rlpy\\torch_utility.py:160\u001b[0m, in \u001b[0;36mconvert_to_torch\u001b[1;34m(array, device)\u001b[0m\n\u001b[0;32m    158\u001b[0m \u001b[39mdef\u001b[39;00m \u001b[39mconvert_to_torch\u001b[39m(array: np\u001b[39m.\u001b[39mndarray, device: \u001b[39mstr\u001b[39m) \u001b[39m-\u001b[39m\u001b[39m>\u001b[39m torch\u001b[39m.\u001b[39mTensor:\n\u001b[0;32m    159\u001b[0m     dtype \u001b[39m=\u001b[39m torch\u001b[39m.\u001b[39muint8 \u001b[39mif\u001b[39;00m array\u001b[39m.\u001b[39mdtype \u001b[39m==\u001b[39m np\u001b[39m.\u001b[39muint8 \u001b[39melse\u001b[39;00m torch\u001b[39m.\u001b[39mfloat32\n\u001b[1;32m--> 160\u001b[0m     tensor \u001b[39m=\u001b[39m torch\u001b[39m.\u001b[39;49mtensor(data\u001b[39m=\u001b[39;49marray, dtype\u001b[39m=\u001b[39;49mdtype, device\u001b[39m=\u001b[39;49mdevice)\n\u001b[0;32m    161\u001b[0m     \u001b[39mreturn\u001b[39;00m tensor\u001b[39m.\u001b[39mfloat()\n",
      "\u001b[1;31mKeyboardInterrupt\u001b[0m: "
     ]
    }
   ],
   "source": [
    "dataset =getDataset()\n",
    "dqn = d3rlpy.load_learnable(\"d3rlpy_logs\\DQN_20230823233823\\model_10000.d3\")\n",
    "ddqn = d3rlpy.load_learnable(\"d3rlpy_logs\\DoubleDQN_20230823232426\\model_9000.d3\")\n",
    "# sac = d3rlpy.load_learnable(\"d3rlpy_logs\\DiscreteSAC_20230823230828\\model_7000.d3\"),\n",
    "bcq = d3rlpy.load_learnable(\"d3rlpy_logs\\DiscreteBCQ_20230823231237\\model_10000.d3\")\n",
    "cql = d3rlpy.load_learnable(\"d3rlpy_logs\\DiscreteCQL_20230823231554\\model_10000.d3\")\n",
    "evaluation_policies = [\n",
    "    {\"name\": \"DQN\", \"policy\": dqn},\n",
    "    {\"name\": \"DDQN\", \"policy\": ddqn},\n",
    "    # {\"name\": \"SAC\", \"policy\": sac},\n",
    "    {\"name\": \"BCQ\", \"policy\": bcq},\n",
    "    {\"name\": \"CQL\", \"policy\": cql},\n",
    "]\n",
    "init_values_dict = {}\n",
    "soft_opcs_dict = {}\n",
    "average_value_dict = {}\n",
    "environment_dict = {}\n",
    "for policy_info in evaluation_policies:\n",
    "    policy_name = policy_info[\"name\"]  \n",
    "    policy = policy_info[\"policy\"]\n",
    "    print(policy)\n",
    "    fqe = d3rlpy.ope.DiscreteFQE(algo=policy, config=d3rlpy.ope.FQEConfig())\n",
    "    env = Env(visible=False, level=str(level_paths.level)).env\n",
    "    # start FQE training\n",
    "    fitter = fqe.fitter(\n",
    "    dataset,\n",
    "    n_steps=10000,\n",
    "    n_steps_per_epoch=1000,\n",
    "    evaluators={\n",
    "        \"init_value\": d3rlpy.metrics.InitialStateValueEstimationEvaluator(),\n",
    "        \"soft_opc\": d3rlpy.metrics.SoftOPCEvaluator(180),# set 180 for success return threshold here \n",
    "            \"average_value\": d3rlpy.metrics.AverageValueEstimationEvaluator(), \n",
    "            \"environment\": d3rlpy.metrics.EnvironmentEvaluator(env),\n",
    "    },\n",
    "    show_progress = False,\n",
    "    )\n",
    "    init_values = []\n",
    "    soft_opcs = []\n",
    "    average_value = []\n",
    "    environment = []\n",
    "    for epoch, metrics in fitter:\n",
    "        init_values.append(metrics['init_value'])\n",
    "        soft_opcs.append(metrics['soft_opc'])\n",
    "        average_value.append(metrics['average_value'])\n",
    "        environment.append(metrics['environment'])\n",
    "    init_values_dict[policy_name]=init_values\n",
    "    soft_opcs_dict[policy_name]=soft_opcs\n",
    "    average_value_dict[policy_name]=average_value\n",
    "    environment_dict[policy_name]=environment\n"
   ]
  },
  {
   "cell_type": "code",
   "execution_count": 18,
   "metadata": {},
   "outputs": [
    {
     "data": {
      "image/png": "[encoded data removed]",
      "text/plain": [
       "<Figure size 640x480 with 1 Axes>"
      ]
     },
     "metadata": {},
     "output_type": "display_data"
    }
   ],
   "source": [
    "x = list(range(1, n_epochs+1))\n",
    "for policy_info in evaluation_policies:\n",
    "    policy = policy_info[\"name\"]  # 获取策略名称\n",
    "    plt.plot(x, init_values_dict[policy], label=policy)\n",
    "\n",
    "plt.xlabel('epochs')\n",
    "plt.ylabel('init_values')\n",
    "plt.title('init_values')\n",
    "plt.legend()\n",
    "plt.show()"
   ]
  },
  {
   "cell_type": "code",
   "execution_count": 22,
   "metadata": {},
   "outputs": [
    {
     "data": {
      "image/png": "[encoded data removed]",
      "text/plain": [
       "<Figure size 640x480 with 1 Axes>"
      ]
     },
     "metadata": {},
     "output_type": "display_data"
    }
   ],
   "source": [
    "x = list(range(1, n_epochs+1))\n",
    "for policy_info in evaluation_policies:\n",
    "    policy = policy_info[\"name\"]  # 获取策略名称\n",
    "    plt.plot(x, soft_opcs_dict[policy], label=policy)\n",
    "\n",
    "plt.xlabel('epochs')\n",
    "plt.ylabel('soft_opcs')\n",
    "plt.title('soft_opcs')\n",
    "plt.legend()\n",
    "plt.show()"
   ]
  },
  {
   "cell_type": "code",
   "execution_count": 23,
   "metadata": {},
   "outputs": [
    {
     "data": {
      "image/png": "[encoded data removed]",
      "text/plain": [
       "<Figure size 640x480 with 1 Axes>"
      ]
     },
     "metadata": {},
     "output_type": "display_data"
    }
   ],
   "source": [
    "x = list(range(1, n_epochs+1))\n",
    "for policy_info in evaluation_policies:\n",
    "    policy = policy_info[\"name\"]  # 获取策略名称\n",
    "    plt.plot(x, average_value_dict[policy], label=policy)\n",
    "\n",
    "plt.xlabel('epochs')\n",
    "plt.ylabel('average_value')\n",
    "plt.title('average_value')\n",
    "plt.legend()\n",
    "plt.show()"
   ]
  },
  {
   "cell_type": "code",
   "execution_count": 24,
   "metadata": {},
   "outputs": [
    {
     "data": {
      "image/png": "[encoded data removed]",
      "text/plain": [
       "<Figure size 640x480 with 1 Axes>"
      ]
     },
     "metadata": {},
     "output_type": "display_data"
    }
   ],
   "source": [
    "x = list(range(1, n_epochs+1))\n",
    "for policy_info in evaluation_policies:\n",
    "    policy = policy_info[\"name\"]  # 获取策略名称\n",
    "    plt.plot(x, environment_dict[policy], label=policy)\n",
    "\n",
    "plt.xlabel('epochs')\n",
    "plt.ylabel('environment')\n",
    "plt.title('environment')\n",
    "plt.legend()\n",
    "plt.show()"
   ]
  },
  {
   "cell_type": "markdown",
   "metadata": {},
   "source": [
    "### 2.4 Validation\n",
    "Now let's see if the training did something. If the results are not as expected try recording more data or increasing the training epochs."
   ]
  },
  {
   "cell_type": "code",
   "execution_count": 14,
   "metadata": {},
   "outputs": [
    {
     "name": "stdout",
     "output_type": "stream",
     "text": [
      "Running on port 61218\n"
     ]
    },
    {
     "name": "stderr",
     "output_type": "stream",
     "text": [
      "d:\\marioai\\marioenv\\lib\\site-packages\\gym\\envs\\registration.py:555: UserWarning: WARN: The environment Marioai-v0 is out of date. You should consider upgrading to version `v2`.\n",
      "  logger.warn(\n"
     ]
    },
    {
     "name": "stdout",
     "output_type": "stream",
     "text": [
      "(200, 4)\n",
      "D:\\marioai\\exercise_offline_rl\\data\\datasets\\OneCliffLevel.h5\n",
      "D:\\marioai\\exercise_offline_rl\\data\\datasets\\RoughTerrainLevel.h5\n",
      "observation_shape:  (800,)\n",
      "dataset_info.action_size:  13\n"
     ]
    },
    {
     "name": "stderr",
     "output_type": "stream",
     "text": [
      "d:\\marioai\\marioenv\\lib\\site-packages\\gym\\utils\\passive_env_checker.py:187: UserWarning: WARN: Future gym versions will require that `Env.reset` can be passed `options` to allow the environment initialisation to be passed additional information.\n",
      "  logger.warn(\n",
      "d:\\marioai\\marioenv\\lib\\site-packages\\gym\\utils\\passive_env_checker.py:165: UserWarning: WARN: The obs returned by the `reset()` method is not within the observation space.\n",
      "  logger.warn(f\"{pre} is not within the observation space.\")\n",
      "d:\\marioai\\marioenv\\lib\\site-packages\\gym\\utils\\passive_env_checker.py:233: DeprecationWarning: `np.bool8` is a deprecated alias for `np.bool_`.  (Deprecated NumPy 1.24)\n",
      "  if not isinstance(terminated, (bool, np.bool8)):\n",
      "d:\\marioai\\marioenv\\lib\\site-packages\\gym\\utils\\passive_env_checker.py:165: UserWarning: WARN: The obs returned by the `step()` method is not within the observation space.\n",
      "  logger.warn(f\"{pre} is not within the observation space.\")\n"
     ]
    },
    {
     "name": "stdout",
     "output_type": "stream",
     "text": [
      "finished episode, total_reward: 25\n",
      "Window closed.\n"
     ]
    }
   ],
   "source": [
    "env_show = Env(visible=True, level=str(level)).env\n",
    "\n",
    "dqn = d3rlpy.algos.DQNConfig(learning_rate=learning_rate, gamma=gamma,\n",
    "          target_update_interval=target_update_interval,\n",
    "          batch_size=batch_size).create()\n",
    "dqn.build_with_dataset(getDataset())\n",
    "\n",
    "# dqn.load_model(model_file)\n",
    "dqn.load_model(\"data\\models\\CQL_marioai_OneCliffLevel_0.99_0.0003_3000_10.pt\")\n",
    "\n",
    "try:\n",
    "    while True:\n",
    "        observation, _ = env_show.reset()\n",
    "\n",
    "        done = False\n",
    "        total_reward = 0\n",
    "        while not done:\n",
    "            predict_action = dqn.predict(observation[np.newaxis, :])[0]\n",
    "            observation, reward, done, truncated, info = env_show.step(predict_action)\n",
    "            total_reward += reward\n",
    "        print(f'finished episode, total_reward: {total_reward}')\n",
    "except ConnectionResetError:\n",
    "    print(\"Window closed.\") "
   ]
  },
  {
   "cell_type": "code",
   "execution_count": 40,
   "metadata": {},
   "outputs": [
    {
     "name": "stdout",
     "output_type": "stream",
     "text": [
      "Running on port 55652\n",
      "(200, 4)\n",
      "D:\\marioai\\exercise_offline_rl\\data\\datasets\\OneCliffLevel.h5\n",
      "D:\\marioai\\exercise_offline_rl\\data\\datasets\\OneCliffLevel.random.h5\n",
      "observation_shape:  (800,)\n",
      "dataset_info.action_size:  13\n",
      "finished episode, total_reward: 34\n",
      "finished episode, total_reward: 34\n",
      "Window closed.\n"
     ]
    }
   ],
   "source": [
    "env_show = Env(visible=True, level=str(level)).env\n",
    "\n",
    "ddqn = d3rlpy.algos.DoubleDQNConfig(learning_rate=learning_rate, gamma=gamma,\n",
    "          target_update_interval=target_update_interval,\n",
    "          batch_size=batch_size).create()\n",
    "ddqn.build_with_dataset(getDataset())\n",
    "\n",
    "# dqn.load_model(model_file)\n",
    "ddqn.load_model(\"data\\models\\DDQN_marioai_OneCliffLevel_0.99_0.0003_3000_10.pt\")\n",
    "\n",
    "try:\n",
    "    while True:\n",
    "        observation, _ = env_show.reset()\n",
    "\n",
    "        done = False\n",
    "        total_reward = 0\n",
    "        while not done:\n",
    "            predict_action = ddqn.predict(observation[np.newaxis, :])[0]\n",
    "            observation, reward, done, truncated, info = env_show.step(predict_action)\n",
    "            total_reward += reward\n",
    "        print(f'finished episode, total_reward: {total_reward}')\n",
    "except ConnectionResetError:\n",
    "    print(\"Window closed.\")"
   ]
  },
  {
   "cell_type": "markdown",
   "metadata": {},
   "source": [
    "## 3. Offline RL vs Online RL \n",
    "\n",
    "Now we want to compare the approach from the first exercise where an online Q-Learner was used with the results we were able to achieve with the offline RL approach demonstrated above.\n",
    "\n",
    "![Gif](https://1.bp.blogspot.com/-O0FvK3zJd9w/XpXqiJduwyI/AAAAAAAAFtM/5hxzdWOoSLw5sd5vEgMsiGVJSATKx1oEgCLcBGAsYHQ/s640/OFFLINE%2BRL%2Bfig1%2B05b.gif)\n"
   ]
  },
  {
   "cell_type": "markdown",
   "metadata": {},
   "source": [
    "### 3.1 Reproducibility\n",
    "To compare as fairly as possible we ran both the Online Q-Learner as well as the offline Deep Q-Network until a plateau of performance has been reached.\n",
    "- The online Q-Learner was able to train for 10.000 episodes per level while being able to interact with the environment\n",
    "- The DQN was fed <1 hour (~360 episodes) of human playtime per level and was not allowed to interact with the environment while training\n",
    "- Both models were using the same reward settings\n"
   ]
  },
  {
   "cell_type": "markdown",
   "metadata": {},
   "source": [
    "### 3.2 Easy level\n",
    "\n",
    "|  | Reward | Video |\n",
    "| -------- | -------- | -------- |\n",
    "| Q-Learner  | 232     | ![Gif](https://raw.githubusercontent.com/koerners/marioai/master/exercise_offline_rl/data/jupyter/rough_terrain_q_learner_232.gif)    |\n",
    "| Deep Q-Network  | 280    | ![Gif](https://raw.githubusercontent.com/koerners/marioai/master/exercise_offline_rl/data/jupyter/rough_terrain_dqn_280.gif)    |\n",
    "\n",
    "With sufficient training, neither model struggles with the easy level. However, the model fed with player generated data shows better anticipation of jumps which leads to a better overall result."
   ]
  },
  {
   "cell_type": "markdown",
   "metadata": {},
   "source": [
    "### 3.3 Medium level\n",
    "\n",
    "|  | Reward | Video |\n",
    "| -------- | -------- | -------- |\n",
    "| Q-Learner  | 176     | ![Gif](https://raw.githubusercontent.com/koerners/marioai/master/exercise_offline_rl/data/jupyter/cliff_and_enemies_q_learner_176.gif)    |\n",
    "| Deep Q-Network  | 193    | ![Gif](https://raw.githubusercontent.com/koerners/marioai/master/exercise_offline_rl/data/jupyter/cliff_and_enemies_dqn_193.gif)    |\n",
    "\n",
    "In the medium level, both models behave similarly to the easy level. While the Online Learner seems to have a better strategy to avoid enemies, the Offline Learner has the better jumping performance leading to a better overall score as it is quicker to finish the level."
   ]
  },
  {
   "cell_type": "markdown",
   "metadata": {},
   "source": [
    "### 3.4 Hard level\n",
    "|  | Reward | Video |\n",
    "| -------- | -------- | -------- |\n",
    "| Q-Learner  | -559     | ![Gif](https://raw.githubusercontent.com/koerners/marioai/master/exercise_offline_rl/data/jupyter/climb_q_learner_-559.gif)    |\n",
    "| Deep Q-Network  | -34    | ![Gif](https://raw.githubusercontent.com/koerners/marioai/master/exercise_offline_rl/data/jupyter/climb_dqn_-34.gif)    |\n",
    "\n",
    "Neither model manages to complete the really hard level we tested them on. It is however interesting to observe the different strategies they applied. While the Q-Learner shows a very promising leap to the middle platform, failing to reach the final platform it seems to just give up and wait for the time to run out leading to a high time punishment and therefore an extremely low score. The offline trained model while still failing to complete the level, has developed a strategy to avoid the high time punishment by committing suicide as soon as possible."
   ]
  },
  {
   "cell_type": "markdown",
   "metadata": {},
   "source": [
    "### 3.5 Reward Summary\n",
    "\n",
    "![Summary](https://raw.githubusercontent.com/koerners/marioai/master/exercise_offline_rl/data/jupyter/level-summary.png)\n",
    "\n",
    "\n"
   ]
  },
  {
   "cell_type": "markdown",
   "metadata": {},
   "source": [
    "### 3.6 Performance over 100 levels\n",
    "\n",
    "To compare how well the different methods are able to generalize, we let both the online Q-Learner and the offline DQN train on a single level (the easy level above) and then let them play 100 randomly generated levels (including the three levels above).\n",
    "\n",
    "The model obtained by Q-Learning is only able to beat a single level (presumably the one it was trained on) which indicates that the model highly overfits the level used for training.\n",
    "\n",
    "The model produced by the DQN using user-supplied data on the other hand is able to beat 12 out of the 100 levels and manages to obtain a positive reward on 21 of them. While that number may still not be terribly impressive, it shows that the offline approach is able to generalize good enough to beat levels it has never seen before and far surpasses what the Q-Learner was able to achieve.\n",
    "\n",
    "The plot below shows the total reward achieved by the offline and online method for each level. Here we can also see that the offline method is usually able to obtain a higher reward than the online method. This means that either the offline agent is able to progress further into the level or that the online learner gets stuck somewhere while the offline learner prefers a quick death like in the hard level above.\n",
    "\n",
    "![Comparison: Achieved Reward](https://raw.githubusercontent.com/koerners/marioai/master/exercise_offline_rl/data/jupyter/eval.png)\n"
   ]
  },
  {
   "cell_type": "markdown",
   "metadata": {},
   "source": [
    "## 4. Conclusion\n",
    "\n",
    "While achieving slightly better results than the online RL approach in the easy and medium level, the offline DQN approach was not able to perform any better than the online implementation in the hard level we tested them both on.\n",
    "Our guess would be the lack of training data as mastering a level of this complexity would require a level of understanding of the environment that the network was not able to abstract from the data we were able to provide.\n",
    "This also demonstrates the biggest issue with the offline RL approach: it's high dependence on good and plentiful data.\n",
    "Creating such data is a time-consuming and often times an expensive endeavor.\n",
    "\n",
    "Nevertheless, even with limited data the offline approach was still able to generalize better than the online approach, as we have learned from our evaluation on random levels.\n",
    "We also believe that there is room to improve for the offline approach even without providing additional data.\n",
    "For example, we expect that the training results with our limited amount of data might be improved by adding a Convolutional Neural Network to the DQN.\n",
    "This might lead to a precise Pixel recognition of the matrix that our\n",
    "agent perceives thus leading to better reactions in certain situations with the training data of one balanced level which the player faces different situation.\n",
    "\n",
    "\n",
    "In the real world offline RL is often times the only sensible way to use an ML model as online learning would simply be too dangerous or slow. \n",
    "However, this comes with the price of the agent not being able to explore different approaches on its own meaning an often times subpar training result.\n",
    "Companies like Tesla have acknowledged this issue and have been training their self-driving cars in a life like simulated environment in which they reproduce difficult situations the car might encounter to explore without any real world damages. [[3]](https://youtu.be/11QXiJ8ORe8?t=3187)"
   ]
  },
  {
   "cell_type": "markdown",
   "metadata": {},
   "source": [
    "![Thanks](https://media4.giphy.com/media/1mssFONYwmBlJy1DAv/giphy.gif?cid=ecf05e47fq7b3e8nbn49rxb2hj1f8qy627umny603h7tsi8f&rid=giphy.gif&ct=g)"
   ]
  }
 ],
 "metadata": {
  "interpreter": {
   "hash": "4fefe5704b33e4500f5833ae6032bcef53ee790cf4ffa6448116d63501fea73e"
  },
  "kernelspec": {
   "display_name": "Python 3 (ipykernel)",
   "language": "python",
   "name": "python3"
  },
  "language_info": {
   "codemirror_mode": {
    "name": "ipython",
    "version": 3
   },
   "file_extension": ".py",
   "mimetype": "text/x-python",
   "name": "python",
   "nbconvert_exporter": "python",
   "pygments_lexer": "ipython3",
   "version": "3.9.18"
  }
 },
 "nbformat": 4,
 "nbformat_minor": 2
}
